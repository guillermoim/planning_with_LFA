{
 "cells": [
  {
   "cell_type": "code",
   "execution_count": 5,
   "id": "0d879bc6",
   "metadata": {},
   "outputs": [],
   "source": [
    "from src import *\n",
    "import numpy as np"
   ]
  },
  {
   "cell_type": "markdown",
   "id": "d8072ab7",
   "metadata": {},
   "source": [
    "## Blocksworld clear"
   ]
  },
  {
   "cell_type": "code",
   "execution_count": 6,
   "id": "77218a6a",
   "metadata": {},
   "outputs": [
    {
     "name": "stdout",
     "output_type": "stream",
     "text": [
      "['n_concept_distance(c_primitive(clear,0),r_primitive(on,0,1),c_primitive(clear_g,0))', 'b_nullary(arm-empty)']\n"
     ]
    }
   ],
   "source": [
    "path = \"../old_planning/results/blocksworld/p-clear-4blocks-0-flag/feat_matrix_extended.csv\"\n",
    "X, y, names, complexities = data_loader(path)\n",
    "list(map(names.index, [name for name in names if 'arm-empty' in name]))\n",
    "feat,weights,bias = get_key_features(\"blocksworld-clear\", regression=False)\n",
    "print(feat)\n",
    "idxs = list(map(names.index, feat))"
   ]
  },
  {
   "cell_type": "code",
   "execution_count": 7,
   "id": "84c8011f",
   "metadata": {},
   "outputs": [],
   "source": [
    "#X[:, 65] = np.array(np.logical_not(X[:, 65]), dtype=np.int32)"
   ]
  },
  {
   "cell_type": "code",
   "execution_count": 8,
   "id": "af551e21",
   "metadata": {},
   "outputs": [
    {
     "data": {
      "text/plain": [
       "array([0., 0., 0., 0., 0., 0., 0., 0., 0., 0., 0., 0., 0., 0., 0., 0., 0.,\n",
       "       0., 0., 0., 0., 0., 0., 0., 0., 0., 0., 0., 0., 0., 0., 0., 0., 0.,\n",
       "       0., 0., 0., 0., 0., 0., 0., 0., 0., 0., 0., 0., 0., 0., 0., 0., 0.,\n",
       "       0., 0., 0., 0., 0., 0., 0., 0., 0., 0., 0., 0., 0., 0., 0., 0., 0.,\n",
       "       0., 0., 0., 0., 0., 0., 0., 0., 0., 0., 0., 0., 0., 0., 0., 0., 0.,\n",
       "       0., 0., 0., 0., 0., 0., 0., 0., 0., 0., 0., 0., 0., 0., 0., 0., 0.,\n",
       "       0., 0., 0., 0., 0., 0., 0., 0., 0., 0., 0., 0., 0., 0., 0., 0., 0.,\n",
       "       0., 0., 0., 0., 0., 0.])"
      ]
     },
     "execution_count": 8,
     "metadata": {},
     "output_type": "execute_result"
    }
   ],
   "source": [
    "X = X[:, idxs]\n",
    "X[np.where(X > 1000)] = 0\n",
    "y - (weights @ X.T + bias)"
   ]
  },
  {
   "cell_type": "markdown",
   "id": "4778199c",
   "metadata": {},
   "source": [
    "## Blocksworld on"
   ]
  },
  {
   "cell_type": "code",
   "execution_count": 15,
   "id": "1c9f196e",
   "metadata": {},
   "outputs": [
    {
     "name": "stdout",
     "output_type": "stream",
     "text": [
      "n_count(r_and(r_primitive(on,0,1),r_primitive(on_g,0,1)))\n",
      "n_concept_distance(c_primitive(holding,0),r_primitive(on_g,0,1),c_primitive(clear,0))\n",
      "b_inclusion(c_primitive(on_g,0),c_some(r_transitive_closure(r_primitive(on,0,1)),c_primitive(on_g,1)))\n",
      "b_empty(c_primitive(holding,0))\n",
      "b_inclusion(c_primitive(on_g,1),c_some(r_transitive_closure(r_primitive(on,0,1)),c_primitive(on_g,0)))\n",
      "F_1\n"
     ]
    }
   ],
   "source": [
    "path = \"../old_planning/results/blocksworld/p-on-4blocks-0-flag/feat_matrix_extended.csv\"\n",
    "X, y, names, complexities = data_loader(path)\n",
    "list(map(names.index, [name for name in names if 'arm-empty' in name]))\n",
    "feat = ['n_count(r_and(r_primitive(on,0,1),r_primitive(on_g,0,1)))',\n",
    " 'n_concept_distance(c_primitive(holding,0),r_primitive(on_g,0,1),c_primitive(clear,0))',\n",
    " 'b_inclusion(c_primitive(on_g,0),c_some(r_transitive_closure(r_primitive(on,0,1)),c_primitive(on_g,1)))',\n",
    " 'b_empty(c_primitive(holding,0))',\n",
    " 'b_inclusion(c_primitive(on_g,1),c_some(r_transitive_closure(r_primitive(on,0,1)),c_primitive(on_g,0)))',\n",
    " 'F_1']\n",
    "idxs = list(map(names.index, feat))\n",
    "\n",
    "for i in feat:\n",
    "    print(i)"
   ]
  },
  {
   "cell_type": "code",
   "execution_count": 17,
   "id": "9b8ce3b4",
   "metadata": {},
   "outputs": [
    {
     "data": {
      "text/plain": [
       "array([[0., 0.],\n",
       "       [0., 2.],\n",
       "       [0., 0.],\n",
       "       [0., 0.],\n",
       "       [1., 3.],\n",
       "       [0., 0.],\n",
       "       [0., 0.],\n",
       "       [0., 2.],\n",
       "       [0., 0.],\n",
       "       [0., 0.],\n",
       "       [0., 0.],\n",
       "       [1., 2.],\n",
       "       [0., 0.],\n",
       "       [1., 2.],\n",
       "       [1., 3.],\n",
       "       [1., 3.],\n",
       "       [0., 0.],\n",
       "       [0., 0.],\n",
       "       [1., 2.],\n",
       "       [0., 0.],\n",
       "       [0., 0.],\n",
       "       [0., 0.],\n",
       "       [0., 0.],\n",
       "       [0., 0.],\n",
       "       [0., 0.],\n",
       "       [0., 1.],\n",
       "       [0., 0.],\n",
       "       [0., 0.],\n",
       "       [0., 1.],\n",
       "       [0., 0.],\n",
       "       [1., 3.],\n",
       "       [0., 0.],\n",
       "       [0., 0.],\n",
       "       [0., 0.],\n",
       "       [1., 3.],\n",
       "       [0., 0.],\n",
       "       [0., 0.],\n",
       "       [0., 1.],\n",
       "       [0., 0.],\n",
       "       [0., 0.],\n",
       "       [0., 0.],\n",
       "       [1., 1.],\n",
       "       [0., 0.],\n",
       "       [1., 1.],\n",
       "       [0., 0.],\n",
       "       [0., 0.],\n",
       "       [0., 1.],\n",
       "       [0., 0.],\n",
       "       [0., 0.],\n",
       "       [1., 1.],\n",
       "       [1., 2.],\n",
       "       [1., 3.],\n",
       "       [1., 1.],\n",
       "       [0., 1.],\n",
       "       [0., 0.],\n",
       "       [0., 0.],\n",
       "       [0., 0.],\n",
       "       [0., 1.],\n",
       "       [0., 0.],\n",
       "       [0., 0.],\n",
       "       [0., 0.],\n",
       "       [1., 1.],\n",
       "       [0., 0.],\n",
       "       [0., 1.],\n",
       "       [0., 0.],\n",
       "       [0., 0.],\n",
       "       [0., 0.],\n",
       "       [1., 2.],\n",
       "       [1., 1.],\n",
       "       [0., 0.],\n",
       "       [0., 0.],\n",
       "       [0., 0.],\n",
       "       [0., 2.],\n",
       "       [1., 1.],\n",
       "       [0., 0.],\n",
       "       [0., 0.],\n",
       "       [0., 0.],\n",
       "       [0., 1.],\n",
       "       [0., 0.],\n",
       "       [0., 1.],\n",
       "       [0., 1.],\n",
       "       [1., 1.],\n",
       "       [0., 0.],\n",
       "       [0., 0.],\n",
       "       [1., 2.],\n",
       "       [0., 0.],\n",
       "       [0., 0.],\n",
       "       [0., 0.],\n",
       "       [1., 2.],\n",
       "       [0., 0.],\n",
       "       [0., 0.],\n",
       "       [0., 0.],\n",
       "       [1., 1.],\n",
       "       [0., 0.],\n",
       "       [1., 2.],\n",
       "       [1., 1.],\n",
       "       [0., 0.],\n",
       "       [1., 2.],\n",
       "       [0., 0.],\n",
       "       [0., 0.],\n",
       "       [0., 1.],\n",
       "       [0., 0.],\n",
       "       [1., 2.],\n",
       "       [1., 1.],\n",
       "       [0., 0.],\n",
       "       [0., 0.],\n",
       "       [0., 0.],\n",
       "       [0., 0.],\n",
       "       [0., 0.],\n",
       "       [0., 0.],\n",
       "       [0., 0.],\n",
       "       [0., 0.],\n",
       "       [0., 0.],\n",
       "       [0., 0.],\n",
       "       [0., 0.],\n",
       "       [0., 2.],\n",
       "       [1., 2.],\n",
       "       [0., 1.],\n",
       "       [0., 0.],\n",
       "       [0., 1.],\n",
       "       [0., 0.],\n",
       "       [0., 1.],\n",
       "       [0., 0.],\n",
       "       [0., 0.],\n",
       "       [1., 2.]])"
      ]
     },
     "execution_count": 17,
     "metadata": {},
     "output_type": "execute_result"
    }
   ],
   "source": []
  }
 ],
 "metadata": {
  "kernelspec": {
   "display_name": "Python 3 (ipykernel)",
   "language": "python",
   "name": "python3"
  },
  "language_info": {
   "codemirror_mode": {
    "name": "ipython",
    "version": 3
   },
   "file_extension": ".py",
   "mimetype": "text/x-python",
   "name": "python",
   "nbconvert_exporter": "python",
   "pygments_lexer": "ipython3",
   "version": "3.7.8"
  }
 },
 "nbformat": 4,
 "nbformat_minor": 5
}
