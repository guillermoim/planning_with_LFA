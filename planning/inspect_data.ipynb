{
 "cells": [
  {
   "cell_type": "code",
   "execution_count": 57,
   "id": "0d879bc6",
   "metadata": {},
   "outputs": [],
   "source": [
    "from src import *\n",
    "import numpy as np"
   ]
  },
  {
   "cell_type": "code",
   "execution_count": 58,
   "id": "77218a6a",
   "metadata": {},
   "outputs": [],
   "source": [
    "path = \"../old_planning/results/blocksworld/p-clear-4blocks-0-flag/feat_matrix_extended.csv\"\n",
    "X, y, names, complexities = data_loader(path)"
   ]
  },
  {
   "cell_type": "code",
   "execution_count": 59,
   "id": "295ee4ae",
   "metadata": {},
   "outputs": [
    {
     "data": {
      "text/plain": [
       "[19, 37]"
      ]
     },
     "execution_count": 59,
     "metadata": {},
     "output_type": "execute_result"
    }
   ],
   "source": [
    "list(map(names.index, [name for name in names if 'arm-empty' in name]))"
   ]
  },
  {
   "cell_type": "code",
   "execution_count": 60,
   "id": "4c935f55",
   "metadata": {},
   "outputs": [],
   "source": [
    "#X[:, 85] - X[:, 65]"
   ]
  },
  {
   "cell_type": "code",
   "execution_count": 64,
   "id": "5a26f75c",
   "metadata": {},
   "outputs": [
    {
     "name": "stdout",
     "output_type": "stream",
     "text": [
      "['n_concept_distance(c_primitive(clear,0),r_primitive(on,0,1),c_primitive(clear_g,0))', 'b_nullary(arm-empty)']\n"
     ]
    }
   ],
   "source": [
    "feat,weights,bias = get_key_features(\"blocksworld-clear\", regression=False)\n",
    "print(feat)\n",
    "idxs = list(map(names.index, feat))"
   ]
  },
  {
   "cell_type": "code",
   "execution_count": 65,
   "id": "84c8011f",
   "metadata": {},
   "outputs": [],
   "source": [
    "#X[:, 65] = np.array(np.logical_not(X[:, 65]), dtype=np.int32)"
   ]
  },
  {
   "cell_type": "code",
   "execution_count": 66,
   "id": "af551e21",
   "metadata": {},
   "outputs": [
    {
     "ename": "IndexError",
     "evalue": "index 24 is out of bounds for axis 1 with size 2",
     "output_type": "error",
     "traceback": [
      "\u001b[0;31m---------------------------------------------------------------------------\u001b[0m",
      "\u001b[0;31mIndexError\u001b[0m                                Traceback (most recent call last)",
      "\u001b[0;32m/tmp/ipykernel_30022/277156548.py\u001b[0m in \u001b[0;36m<module>\u001b[0;34m\u001b[0m\n\u001b[0;32m----> 1\u001b[0;31m \u001b[0mX\u001b[0m \u001b[0;34m=\u001b[0m \u001b[0mX\u001b[0m\u001b[0;34m[\u001b[0m\u001b[0;34m:\u001b[0m\u001b[0;34m,\u001b[0m \u001b[0midxs\u001b[0m\u001b[0;34m]\u001b[0m\u001b[0;34m\u001b[0m\u001b[0;34m\u001b[0m\u001b[0m\n\u001b[0m\u001b[1;32m      2\u001b[0m \u001b[0mX\u001b[0m\u001b[0;34m[\u001b[0m\u001b[0mnp\u001b[0m\u001b[0;34m.\u001b[0m\u001b[0mwhere\u001b[0m\u001b[0;34m(\u001b[0m\u001b[0mX\u001b[0m \u001b[0;34m>\u001b[0m \u001b[0;36m1000\u001b[0m\u001b[0;34m)\u001b[0m\u001b[0;34m]\u001b[0m \u001b[0;34m=\u001b[0m \u001b[0;36m0\u001b[0m\u001b[0;34m\u001b[0m\u001b[0;34m\u001b[0m\u001b[0m\n",
      "\u001b[0;31mIndexError\u001b[0m: index 24 is out of bounds for axis 1 with size 2"
     ]
    }
   ],
   "source": [
    "X = X[:, idxs]\n",
    "X[np.where(X > 1000)] = 0"
   ]
  },
  {
   "cell_type": "code",
   "execution_count": 56,
   "id": "8f575073",
   "metadata": {},
   "outputs": [
    {
     "data": {
      "text/plain": [
       "array([0., 0., 0., 0., 0., 0., 0., 0., 0., 0., 0., 0., 0., 0., 0., 0., 0.,\n",
       "       0., 0., 0., 0., 0., 0., 0., 0., 0., 0., 0., 0., 0., 0., 0., 0., 0.,\n",
       "       0., 0., 0., 0., 0., 0., 0., 0., 0., 0., 0., 0., 0., 0., 0., 0., 0.,\n",
       "       0., 0., 0., 0., 0., 0., 0., 0., 0., 0., 0., 0., 0., 0., 0., 0., 0.,\n",
       "       0., 0., 0., 0., 0., 0., 0., 0., 0., 0., 0., 0., 0., 0., 0., 0., 0.,\n",
       "       0., 0., 0., 0., 0., 0., 0., 0., 0., 0., 0., 0., 0., 0., 0., 0., 0.,\n",
       "       0., 0., 0., 0., 0., 0., 0., 0., 0., 0., 0., 0., 0., 0., 0., 0., 0.,\n",
       "       0., 0., 0., 0., 0., 0.])"
      ]
     },
     "execution_count": 56,
     "metadata": {},
     "output_type": "execute_result"
    }
   ],
   "source": [
    "y - (weights @ X.T + bias)"
   ]
  }
 ],
 "metadata": {
  "kernelspec": {
   "display_name": "Python 3 (ipykernel)",
   "language": "python",
   "name": "python3"
  },
  "language_info": {
   "codemirror_mode": {
    "name": "ipython",
    "version": 3
   },
   "file_extension": ".py",
   "mimetype": "text/x-python",
   "name": "python",
   "nbconvert_exporter": "python",
   "pygments_lexer": "ipython3",
   "version": "3.7.8"
  }
 },
 "nbformat": 4,
 "nbformat_minor": 5
}
