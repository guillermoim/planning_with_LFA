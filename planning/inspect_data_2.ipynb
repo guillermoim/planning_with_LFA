{
 "cells": [
  {
   "cell_type": "code",
   "execution_count": 10,
   "id": "4c3c03fc",
   "metadata": {},
   "outputs": [],
   "source": [
    "import numpy as np\n",
    "import pandas as pd\n",
    "import os\n",
    "import matplotlib.pyplot as plt"
   ]
  },
  {
   "cell_type": "code",
   "execution_count": 31,
   "id": "77fcea8b",
   "metadata": {},
   "outputs": [
    {
     "data": {
      "text/plain": [
       "110    4.684580e-01\n",
       "111    4.637740e-01\n",
       "112    1.958490e-02\n",
       "113    3.835270e-03\n",
       "114    1.203760e-09\n",
       "           ...     \n",
       "205    2.447850e-37\n",
       "206    1.958280e-37\n",
       "207    1.566620e-37\n",
       "208    1.253300e-37\n",
       "209    1.002640e-37\n",
       "Name: parameter, Length: 100, dtype: float64"
      ]
     },
     "execution_count": 31,
     "metadata": {},
     "output_type": "execute_result"
    }
   ],
   "source": [
    "df = pd.read_csv('results/blocksworld/p-clear-5blocks-0-flag/regression.csv')\n",
    "df1 = df[['parameter', 'total_features', 'score']]\n",
    "\n",
    "df1[df1.total_features==24].parameter"
   ]
  },
  {
   "cell_type": "code",
   "execution_count": 32,
   "id": "cdfac954",
   "metadata": {},
   "outputs": [
    {
     "data": {
      "text/plain": [
       "100    4.684580e-01\n",
       "101    4.637740e-01\n",
       "102    1.425470e-02\n",
       "103    1.946590e-03\n",
       "104    3.454960e-04\n",
       "105    2.969490e-04\n",
       "106    2.539750e-04\n",
       "107    1.150140e-04\n",
       "108    2.890260e-05\n",
       "109    6.049710e-07\n",
       "Name: parameter, dtype: float64"
      ]
     },
     "execution_count": 32,
     "metadata": {},
     "output_type": "execute_result"
    }
   ],
   "source": [
    "df1[df1.total_features==13].parameter"
   ]
  }
 ],
 "metadata": {
  "kernelspec": {
   "display_name": "Python 3 (ipykernel)",
   "language": "python",
   "name": "python3"
  },
  "language_info": {
   "codemirror_mode": {
    "name": "ipython",
    "version": 3
   },
   "file_extension": ".py",
   "mimetype": "text/x-python",
   "name": "python",
   "nbconvert_exporter": "python",
   "pygments_lexer": "ipython3",
   "version": "3.7.8"
  }
 },
 "nbformat": 4,
 "nbformat_minor": 5
}
