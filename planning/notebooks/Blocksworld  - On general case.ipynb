{
 "cells": [
  {
   "cell_type": "code",
   "execution_count": 1,
   "id": "c240ef62",
   "metadata": {},
   "outputs": [],
   "source": [
    "import pandas as pd\n",
    "import os\n",
    "import numpy as np\n",
    "\n",
    "import sys\n",
    "sys.path.append('..')\n",
    "\n",
    "sys.path.append(\"../dlplan/experiments\")\n",
    "\n",
    "from sse_and_vf import expand_states, tarski_to_dl_state, episodic_value_iteration\n",
    "from data_loader import data_loader\n",
    "from feature_extraction import evaluate_features_at_state\n",
    "from utils import *\n",
    "from termcolor import colored\n",
    "\n",
    "from domain_data import DomainData\n",
    "from instance_data import InstanceData, state_space_exploration"
   ]
  },
  {
   "cell_type": "markdown",
   "id": "16216a2d",
   "metadata": {},
   "source": [
    "## On(x,y) task - General Formula\n",
    "\n",
    "$V(s) = 2n(s) + 2m(s) − E(s) + 2A(s) + 2B(s) − 4D(s) − 2Z(s) + 3$\n",
    "\n",
    "$A(s) \\rightarrow $ block x on y\n",
    "\n",
    "$B(s) \\rightarrow $ block y on x\n",
    "\n",
    "$E(s) \\rightarrow $ gripper is empty\n",
    "\n",
    "$D(s) \\rightarrow $ goal has been achieved\n",
    "\n",
    "$Z(s) \\rightarrow $ whether holding x and y is clear\n",
    "\n",
    "$n(s) \\rightarrow $ # of blocks above x but different than or not above y\n",
    "\n",
    "$m(s) \\rightarrow $ # of blocks above y but different than or not above x\n",
    "\n",
    "\n"
   ]
  },
  {
   "cell_type": "code",
   "execution_count": 3,
   "id": "adf2bccc",
   "metadata": {},
   "outputs": [],
   "source": [
    "base = '../pddl/blocksworld'\n",
    "\n",
    "os.listdir()\n",
    "\n",
    "domain_file = base + '/domain.pddl'\n",
    "instance_file = base + '/p-3-0-on-linear-simple.pddl'\n",
    "\n",
    "domain = DomainData(domain_file)\n",
    "instance = InstanceData(instance_file, domain, 1)\n",
    "\n",
    "state_space = expand_states(instance, 1000)\n",
    "V, _, _ = episodic_value_iteration(state_space, instance)\n",
    "\n",
    "dl_states = [tarski_to_dl_state(instance, state) for state in state_space]\n",
    "\n",
    "F = construct_syntactic_element_factory(domain)"
   ]
  },
  {
   "cell_type": "code",
   "execution_count": 4,
   "id": "2f3fcafb",
   "metadata": {},
   "outputs": [],
   "source": [
    "def compute_value_function(vals, weights):\n",
    "    assert len(vals) == len(weights), 'should be same lenght'\n",
    "    return np.dot(weights, vals)\n",
    "    "
   ]
  },
  {
   "cell_type": "code",
   "execution_count": 9,
   "id": "54cd4560",
   "metadata": {},
   "outputs": [],
   "source": [
    "# first express is clear or y is on top\n",
    "\n",
    "block_x = 'c_primitive(on_g,0)'\n",
    "block_y = 'c_primitive(on_g,1)'\n",
    "\n",
    "\n",
    "above_x_no_x = f'c_some(r_transitive_closure(r_primitive(on,0,1)),{block_x})'\n",
    "above_y_inc_y = f'c_some(r_transitive_reflexive_closure(r_primitive(on,0,1)),{block_y})'\n",
    "\n",
    "above_y_no_y = f'c_some(r_transitive_closure(r_primitive(on,0,1)),{block_y})'\n",
    "above_x_inc_x = f'c_some(r_transitive_reflexive_closure(r_primitive(on,0,1)),{block_x})'\n",
    "\n",
    "A_x_on_y = f\"b_inclusion(c_primitive(on_g,0),{above_y_no_y})\"\n",
    "B_y_on_x = f\"b_inclusion(c_primitive(on_g,1),{above_x_no_x})\"\n",
    "\n",
    "E_arm_empty = 'b_empty(c_primitive(holding,0))'\n",
    "\n",
    "D_goal = 'n_count(r_and(r_primitive(on,0,1),r_primitive(on_g,0,1)))'    \n",
    "\n",
    "Z_holding_x_clear_y = f'n_concept_distance(c_primitive(holding,0),r_primitive(on_g,0,1),c_primitive(clear,0))'\n",
    "\n",
    "N_blocks_above_x_below_y_no_y = f\"n_count(c_and({above_x_no_x},c_not({above_y_inc_y})))\"\n",
    "N2_blocks_above_x_below_y_no_y = f\"n_count(c_and({above_x_no_x},c_some()))\"\n",
    "N2_blocks_above_x_below_y_no_y = f\"{above_x_no_x}\"\n",
    "    \n",
    "M_blocks_above_y_below_x_no_x = f\"n_count(c_and({above_y_no_y},c_not({above_x_inc_x})))\"\n",
    "#M2_blocks_above_y_below_x_no_x = f\"n_count(c_and({above_y_no_y},c_not({B_y_on_x})))\"\n",
    "        \n",
    "# A, _B_, E, X, n, m \n",
    "\n",
    "features = [A_x_on_y, \n",
    "            B_y_on_x, \n",
    "            E_arm_empty,\n",
    "            D_goal, \n",
    "            Z_holding_x_clear_y,\n",
    "            N_blocks_above_x_below_y_no_y,\n",
    "            N2_blocks_above_x_below_y_no_y,\n",
    "            M_blocks_above_y_below_x_no_x,\n",
    "            #M2_blocks_above_y_below_x_no_x\n",
    "           ]\n",
    "\n"
   ]
  },
  {
   "cell_type": "code",
   "execution_count": 8,
   "id": "2c80dcd3",
   "metadata": {},
   "outputs": [
    {
     "ename": "RuntimeError",
     "evalue": "AndConcept::parse_concept_impl - children are not of type Concept.",
     "output_type": "error",
     "traceback": [
      "\u001b[0;31m---------------------------------------------------------------------------\u001b[0m",
      "\u001b[0;31mRuntimeError\u001b[0m                              Traceback (most recent call last)",
      "\u001b[0;32m/tmp/ipykernel_26664/3684790467.py\u001b[0m in \u001b[0;36m<module>\u001b[0;34m\u001b[0m\n\u001b[1;32m      8\u001b[0m     \u001b[0mstate\u001b[0m \u001b[0;34m=\u001b[0m \u001b[0mfrozenset\u001b[0m\u001b[0;34m(\u001b[0m\u001b[0mstate\u001b[0m\u001b[0;34m.\u001b[0m\u001b[0mas_atoms\u001b[0m\u001b[0;34m(\u001b[0m\u001b[0;34m)\u001b[0m\u001b[0;34m)\u001b[0m\u001b[0;34m\u001b[0m\u001b[0;34m\u001b[0m\u001b[0m\n\u001b[1;32m      9\u001b[0m \u001b[0;34m\u001b[0m\u001b[0m\n\u001b[0;32m---> 10\u001b[0;31m     \u001b[0mvals\u001b[0m \u001b[0;34m=\u001b[0m \u001b[0mevaluate_features_at_state\u001b[0m\u001b[0;34m(\u001b[0m\u001b[0mF\u001b[0m\u001b[0;34m,\u001b[0m \u001b[0mdl_state\u001b[0m\u001b[0;34m,\u001b[0m \u001b[0mfeatures\u001b[0m\u001b[0;34m)\u001b[0m\u001b[0;34m\u001b[0m\u001b[0;34m\u001b[0m\u001b[0m\n\u001b[0m\u001b[1;32m     11\u001b[0m     \u001b[0mvals\u001b[0m\u001b[0;34m[\u001b[0m\u001b[0;34m-\u001b[0m\u001b[0;36m3\u001b[0m\u001b[0;34m]\u001b[0m \u001b[0;34m=\u001b[0m \u001b[0;36m0\u001b[0m \u001b[0;32mif\u001b[0m \u001b[0mvals\u001b[0m\u001b[0;34m[\u001b[0m\u001b[0;34m-\u001b[0m\u001b[0;36m3\u001b[0m\u001b[0;34m]\u001b[0m \u001b[0;34m>\u001b[0m \u001b[0;36m100\u001b[0m \u001b[0;32melse\u001b[0m \u001b[0mvals\u001b[0m\u001b[0;34m[\u001b[0m\u001b[0;34m-\u001b[0m\u001b[0;36m3\u001b[0m\u001b[0;34m]\u001b[0m\u001b[0;34m\u001b[0m\u001b[0;34m\u001b[0m\u001b[0m\n\u001b[1;32m     12\u001b[0m     \u001b[0mc_v\u001b[0m \u001b[0;34m=\u001b[0m \u001b[0mcompute_value_function\u001b[0m\u001b[0;34m(\u001b[0m\u001b[0mvals\u001b[0m\u001b[0;34m,\u001b[0m \u001b[0;34m[\u001b[0m\u001b[0;36m2\u001b[0m\u001b[0;34m,\u001b[0m \u001b[0;36m2\u001b[0m\u001b[0;34m,\u001b[0m \u001b[0;34m-\u001b[0m\u001b[0;36m1\u001b[0m\u001b[0;34m,\u001b[0m \u001b[0;34m-\u001b[0m\u001b[0;36m4\u001b[0m\u001b[0;34m,\u001b[0m \u001b[0;34m-\u001b[0m\u001b[0;36m2\u001b[0m\u001b[0;34m,\u001b[0m \u001b[0;36m2\u001b[0m\u001b[0;34m,\u001b[0m \u001b[0;36m2\u001b[0m\u001b[0;34m]\u001b[0m\u001b[0;34m)\u001b[0m \u001b[0;34m+\u001b[0m \u001b[0;36m3.\u001b[0m\u001b[0;34m\u001b[0m\u001b[0;34m\u001b[0m\u001b[0m\n",
      "\u001b[0;32m~/Desktop/PLAN_PROJECT/feature_extraction.py\u001b[0m in \u001b[0;36mevaluate_features_at_state\u001b[0;34m(F, state, features)\u001b[0m\n\u001b[1;32m     33\u001b[0m     \u001b[0;32mfor\u001b[0m \u001b[0mf\u001b[0m \u001b[0;32min\u001b[0m \u001b[0mfeatures\u001b[0m\u001b[0;34m:\u001b[0m\u001b[0;34m\u001b[0m\u001b[0;34m\u001b[0m\u001b[0m\n\u001b[1;32m     34\u001b[0m         \u001b[0;32mif\u001b[0m \u001b[0mf\u001b[0m\u001b[0;34m.\u001b[0m\u001b[0mstartswith\u001b[0m\u001b[0;34m(\u001b[0m\u001b[0;34m\"n_\"\u001b[0m\u001b[0;34m)\u001b[0m\u001b[0;34m:\u001b[0m\u001b[0;34m\u001b[0m\u001b[0;34m\u001b[0m\u001b[0m\n\u001b[0;32m---> 35\u001b[0;31m             \u001b[0mfeature\u001b[0m \u001b[0;34m=\u001b[0m \u001b[0mF\u001b[0m\u001b[0;34m.\u001b[0m\u001b[0mparse_numerical\u001b[0m\u001b[0;34m(\u001b[0m\u001b[0mf\u001b[0m\u001b[0;34m)\u001b[0m\u001b[0;34m\u001b[0m\u001b[0;34m\u001b[0m\u001b[0m\n\u001b[0m\u001b[1;32m     36\u001b[0m             \u001b[0mval\u001b[0m \u001b[0;34m=\u001b[0m \u001b[0mfeature\u001b[0m\u001b[0;34m.\u001b[0m\u001b[0mevaluate\u001b[0m\u001b[0;34m(\u001b[0m\u001b[0mstate\u001b[0m\u001b[0;34m)\u001b[0m\u001b[0;34m\u001b[0m\u001b[0;34m\u001b[0m\u001b[0m\n\u001b[1;32m     37\u001b[0m             \u001b[0mevaluations\u001b[0m\u001b[0;34m.\u001b[0m\u001b[0mappend\u001b[0m\u001b[0;34m(\u001b[0m\u001b[0mval\u001b[0m\u001b[0;34m)\u001b[0m\u001b[0;34m\u001b[0m\u001b[0;34m\u001b[0m\u001b[0m\n",
      "\u001b[0;31mRuntimeError\u001b[0m: AndConcept::parse_concept_impl - children are not of type Concept."
     ]
    }
   ],
   "source": [
    "# block b3 on b1\n",
    "names = ['X above Y?', 'Y above X?', 'arm empty?', 'goal achieved?', \n",
    "         'Holding X and clear Y?', '# blocks above x?', '# blocks above y?']\n",
    "\n",
    "for i, state in enumerate(state_space):\n",
    "    \n",
    "    dl_state = tarski_to_dl_state(instance, state)\n",
    "    state = frozenset(state.as_atoms())\n",
    "    \n",
    "    vals = evaluate_features_at_state(F, dl_state, features)\n",
    "    vals[-3] = 0 if vals[-3] > 100 else vals[-3]\n",
    "    c_v = compute_value_function(vals, [2, 2, -1, -4, -2, 2, 2]) + 3.    \n",
    "    \n",
    "    diff = abs(V[state]-(-1 * c_v))\n",
    "    \n",
    "    if diff == 0: continue\n",
    "    \n",
    "    print(colored(f\"State: {str(dl_state)}\", \"green\"))\n",
    "    print(colored('V(s)', \"magenta\"), c_v, colored('V*(s)', \"red\"), abs(V[state]), f\"<--> diff={diff}\")\n",
    "    \n",
    "    for i, j in zip(vals, names):\n",
    "        print(colored(f\"{j} {i}\", \"blue\"))\n",
    "    print()"
   ]
  },
  {
   "cell_type": "code",
   "execution_count": null,
   "id": "c851a04c",
   "metadata": {},
   "outputs": [],
   "source": []
  },
  {
   "cell_type": "code",
   "execution_count": null,
   "id": "2a0913fd",
   "metadata": {},
   "outputs": [],
   "source": []
  }
 ],
 "metadata": {
  "kernelspec": {
   "display_name": "Python 3 (ipykernel)",
   "language": "python",
   "name": "python3"
  },
  "language_info": {
   "codemirror_mode": {
    "name": "ipython",
    "version": 3
   },
   "file_extension": ".py",
   "mimetype": "text/x-python",
   "name": "python",
   "nbconvert_exporter": "python",
   "pygments_lexer": "ipython3",
   "version": "3.7.8"
  }
 },
 "nbformat": 4,
 "nbformat_minor": 5
}
