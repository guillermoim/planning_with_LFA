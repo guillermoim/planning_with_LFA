{
 "cells": [
  {
   "cell_type": "code",
   "execution_count": 33,
   "id": "6edad2fa",
   "metadata": {},
   "outputs": [],
   "source": [
    "import numpy as np\n",
    "\n",
    "import sys\n",
    "\n",
    "sys.path.append('../')"
   ]
  },
  {
   "cell_type": "code",
   "execution_count": 34,
   "id": "15bc79d8",
   "metadata": {},
   "outputs": [],
   "source": [
    "from utils.data_loader import data_loader"
   ]
  },
  {
   "cell_type": "code",
   "execution_count": 53,
   "id": "71036cd4",
   "metadata": {},
   "outputs": [],
   "source": [
    "X, y, names, c = data_loader('../results/blocksworld/p-on-3blocks-0-flag/feat_matrix_extended.csv')\n",
    "\n",
    "X[X > 1e3] = 0"
   ]
  },
  {
   "cell_type": "code",
   "execution_count": 64,
   "id": "ff11e547",
   "metadata": {},
   "outputs": [],
   "source": [
    "corr = np.corrcoef(X, rowvar=False)\n",
    "corr = np.tril(corr, k=-1)\n"
   ]
  },
  {
   "cell_type": "code",
   "execution_count": 72,
   "id": "0a27b68f",
   "metadata": {},
   "outputs": [
    {
     "name": "stdout",
     "output_type": "stream",
     "text": [
      "0 5.0 (array([], dtype=int64),)\n",
      "1 5.0 (array([], dtype=int64),)\n",
      "2 4.0 (array([0, 1]),)\n",
      "3 4.0 (array([0, 2]),)\n",
      "4 3.0 (array([0, 1, 2, 3]),)\n",
      "5 5.0 (array([], dtype=int64),)\n",
      "6 4.0 (array([0, 1, 2, 3, 4]),)\n",
      "7 5.0 (array([0, 1, 2, 4, 6]),)\n",
      "8 3.0 (array([0, 1, 2, 3, 4, 6]),)\n",
      "9 5.0 (array([0, 2, 3, 4, 7, 8]),)\n"
     ]
    }
   ],
   "source": [
    "for i, row in enumerate(corr):\n",
    "    if i < 10:\n",
    "        print(i, c[i], np.where(np.abs(row)>0.1))"
   ]
  },
  {
   "cell_type": "code",
   "execution_count": 68,
   "id": "308e64d6",
   "metadata": {},
   "outputs": [
    {
     "data": {
      "text/plain": [
       "786"
      ]
     },
     "execution_count": 68,
     "metadata": {},
     "output_type": "execute_result"
    }
   ],
   "source": [
    "names.index(\"F_0\")"
   ]
  }
 ],
 "metadata": {
  "kernelspec": {
   "display_name": "Python 3 (ipykernel)",
   "language": "python",
   "name": "python3"
  },
  "language_info": {
   "codemirror_mode": {
    "name": "ipython",
    "version": 3
   },
   "file_extension": ".py",
   "mimetype": "text/x-python",
   "name": "python",
   "nbconvert_exporter": "python",
   "pygments_lexer": "ipython3",
   "version": "3.7.8"
  }
 },
 "nbformat": 4,
 "nbformat_minor": 5
}
