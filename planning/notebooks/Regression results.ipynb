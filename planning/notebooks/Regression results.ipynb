{
 "cells": [
  {
   "cell_type": "code",
   "execution_count": 6,
   "id": "fc21b55c",
   "metadata": {},
   "outputs": [],
   "source": [
    "import pandas as pd\n",
    "import matplotlib.pyplot as plt\n",
    "import numpy as np\n",
    "import os\n",
    "\n",
    "from plots import plot_max_score_by_parameter"
   ]
  },
  {
   "cell_type": "markdown",
   "id": "d794fe06",
   "metadata": {},
   "source": [
    "### Clear block - 3 blocks instance"
   ]
  },
  {
   "cell_type": "code",
   "execution_count": 5,
   "id": "8cfa7cc7",
   "metadata": {},
   "outputs": [
    {
     "ename": "FileNotFoundError",
     "evalue": "[Errno 2] No such file or directory: '../results/blocksworld/p-5-0-on-linear-simple-flag/regression.csv'",
     "output_type": "error",
     "traceback": [
      "\u001b[0;31m---------------------------------------------------------------------------\u001b[0m",
      "\u001b[0;31mFileNotFoundError\u001b[0m                         Traceback (most recent call last)",
      "\u001b[0;32m/tmp/ipykernel_39320/130553799.py\u001b[0m in \u001b[0;36m<module>\u001b[0;34m\u001b[0m\n\u001b[0;32m----> 1\u001b[0;31m \u001b[0mdf\u001b[0m \u001b[0;34m=\u001b[0m \u001b[0mpd\u001b[0m\u001b[0;34m.\u001b[0m\u001b[0mread_csv\u001b[0m\u001b[0;34m(\u001b[0m\u001b[0;34m'../results/blocksworld/p-5-0-on-linear-simple-flag/regression.csv'\u001b[0m\u001b[0;34m)\u001b[0m\u001b[0;34m\u001b[0m\u001b[0;34m\u001b[0m\u001b[0m\n\u001b[0m\u001b[1;32m      2\u001b[0m \u001b[0mdf\u001b[0m \u001b[0;34m=\u001b[0m \u001b[0mdf\u001b[0m\u001b[0;34m[\u001b[0m\u001b[0mdf\u001b[0m\u001b[0;34m.\u001b[0m\u001b[0mmethod\u001b[0m \u001b[0;34m==\u001b[0m \u001b[0;34m'L0'\u001b[0m\u001b[0;34m]\u001b[0m\u001b[0;34m\u001b[0m\u001b[0;34m\u001b[0m\u001b[0m\n\u001b[1;32m      3\u001b[0m \u001b[0mdf\u001b[0m\u001b[0;34m[\u001b[0m\u001b[0;34m\"complexity\"\u001b[0m\u001b[0;34m]\u001b[0m \u001b[0;34m=\u001b[0m \u001b[0;36m0\u001b[0m\u001b[0;34m\u001b[0m\u001b[0;34m\u001b[0m\u001b[0m\n\u001b[1;32m      4\u001b[0m \u001b[0;32mfor\u001b[0m \u001b[0mi\u001b[0m\u001b[0;34m,\u001b[0m \u001b[0mrow\u001b[0m \u001b[0;32min\u001b[0m \u001b[0menumerate\u001b[0m\u001b[0;34m(\u001b[0m\u001b[0mdf\u001b[0m\u001b[0;34m.\u001b[0m\u001b[0miterrows\u001b[0m\u001b[0;34m(\u001b[0m\u001b[0;34m)\u001b[0m\u001b[0;34m)\u001b[0m\u001b[0;34m:\u001b[0m\u001b[0;34m\u001b[0m\u001b[0;34m\u001b[0m\u001b[0m\n\u001b[1;32m      5\u001b[0m     \u001b[0;31m#ls = eval(f'{row[1].feature_complexities}')\u001b[0m\u001b[0;34m\u001b[0m\u001b[0;34m\u001b[0m\u001b[0;34m\u001b[0m\u001b[0m\n",
      "\u001b[0;32m~/.pyenv/versions/3.7.8/envs/plan_env/lib/python3.7/site-packages/pandas/util/_decorators.py\u001b[0m in \u001b[0;36mwrapper\u001b[0;34m(*args, **kwargs)\u001b[0m\n\u001b[1;32m    309\u001b[0m                     \u001b[0mstacklevel\u001b[0m\u001b[0;34m=\u001b[0m\u001b[0mstacklevel\u001b[0m\u001b[0;34m,\u001b[0m\u001b[0;34m\u001b[0m\u001b[0;34m\u001b[0m\u001b[0m\n\u001b[1;32m    310\u001b[0m                 )\n\u001b[0;32m--> 311\u001b[0;31m             \u001b[0;32mreturn\u001b[0m \u001b[0mfunc\u001b[0m\u001b[0;34m(\u001b[0m\u001b[0;34m*\u001b[0m\u001b[0margs\u001b[0m\u001b[0;34m,\u001b[0m \u001b[0;34m**\u001b[0m\u001b[0mkwargs\u001b[0m\u001b[0;34m)\u001b[0m\u001b[0;34m\u001b[0m\u001b[0;34m\u001b[0m\u001b[0m\n\u001b[0m\u001b[1;32m    312\u001b[0m \u001b[0;34m\u001b[0m\u001b[0m\n\u001b[1;32m    313\u001b[0m         \u001b[0;32mreturn\u001b[0m \u001b[0mwrapper\u001b[0m\u001b[0;34m\u001b[0m\u001b[0;34m\u001b[0m\u001b[0m\n",
      "\u001b[0;32m~/.pyenv/versions/3.7.8/envs/plan_env/lib/python3.7/site-packages/pandas/io/parsers/readers.py\u001b[0m in \u001b[0;36mread_csv\u001b[0;34m(filepath_or_buffer, sep, delimiter, header, names, index_col, usecols, squeeze, prefix, mangle_dupe_cols, dtype, engine, converters, true_values, false_values, skipinitialspace, skiprows, skipfooter, nrows, na_values, keep_default_na, na_filter, verbose, skip_blank_lines, parse_dates, infer_datetime_format, keep_date_col, date_parser, dayfirst, cache_dates, iterator, chunksize, compression, thousands, decimal, lineterminator, quotechar, quoting, doublequote, escapechar, comment, encoding, encoding_errors, dialect, error_bad_lines, warn_bad_lines, on_bad_lines, delim_whitespace, low_memory, memory_map, float_precision, storage_options)\u001b[0m\n\u001b[1;32m    584\u001b[0m     \u001b[0mkwds\u001b[0m\u001b[0;34m.\u001b[0m\u001b[0mupdate\u001b[0m\u001b[0;34m(\u001b[0m\u001b[0mkwds_defaults\u001b[0m\u001b[0;34m)\u001b[0m\u001b[0;34m\u001b[0m\u001b[0;34m\u001b[0m\u001b[0m\n\u001b[1;32m    585\u001b[0m \u001b[0;34m\u001b[0m\u001b[0m\n\u001b[0;32m--> 586\u001b[0;31m     \u001b[0;32mreturn\u001b[0m \u001b[0m_read\u001b[0m\u001b[0;34m(\u001b[0m\u001b[0mfilepath_or_buffer\u001b[0m\u001b[0;34m,\u001b[0m \u001b[0mkwds\u001b[0m\u001b[0;34m)\u001b[0m\u001b[0;34m\u001b[0m\u001b[0;34m\u001b[0m\u001b[0m\n\u001b[0m\u001b[1;32m    587\u001b[0m \u001b[0;34m\u001b[0m\u001b[0m\n\u001b[1;32m    588\u001b[0m \u001b[0;34m\u001b[0m\u001b[0m\n",
      "\u001b[0;32m~/.pyenv/versions/3.7.8/envs/plan_env/lib/python3.7/site-packages/pandas/io/parsers/readers.py\u001b[0m in \u001b[0;36m_read\u001b[0;34m(filepath_or_buffer, kwds)\u001b[0m\n\u001b[1;32m    480\u001b[0m \u001b[0;34m\u001b[0m\u001b[0m\n\u001b[1;32m    481\u001b[0m     \u001b[0;31m# Create the parser.\u001b[0m\u001b[0;34m\u001b[0m\u001b[0;34m\u001b[0m\u001b[0;34m\u001b[0m\u001b[0m\n\u001b[0;32m--> 482\u001b[0;31m     \u001b[0mparser\u001b[0m \u001b[0;34m=\u001b[0m \u001b[0mTextFileReader\u001b[0m\u001b[0;34m(\u001b[0m\u001b[0mfilepath_or_buffer\u001b[0m\u001b[0;34m,\u001b[0m \u001b[0;34m**\u001b[0m\u001b[0mkwds\u001b[0m\u001b[0;34m)\u001b[0m\u001b[0;34m\u001b[0m\u001b[0;34m\u001b[0m\u001b[0m\n\u001b[0m\u001b[1;32m    483\u001b[0m \u001b[0;34m\u001b[0m\u001b[0m\n\u001b[1;32m    484\u001b[0m     \u001b[0;32mif\u001b[0m \u001b[0mchunksize\u001b[0m \u001b[0;32mor\u001b[0m \u001b[0miterator\u001b[0m\u001b[0;34m:\u001b[0m\u001b[0;34m\u001b[0m\u001b[0;34m\u001b[0m\u001b[0m\n",
      "\u001b[0;32m~/.pyenv/versions/3.7.8/envs/plan_env/lib/python3.7/site-packages/pandas/io/parsers/readers.py\u001b[0m in \u001b[0;36m__init__\u001b[0;34m(self, f, engine, **kwds)\u001b[0m\n\u001b[1;32m    809\u001b[0m             \u001b[0mself\u001b[0m\u001b[0;34m.\u001b[0m\u001b[0moptions\u001b[0m\u001b[0;34m[\u001b[0m\u001b[0;34m\"has_index_names\"\u001b[0m\u001b[0;34m]\u001b[0m \u001b[0;34m=\u001b[0m \u001b[0mkwds\u001b[0m\u001b[0;34m[\u001b[0m\u001b[0;34m\"has_index_names\"\u001b[0m\u001b[0;34m]\u001b[0m\u001b[0;34m\u001b[0m\u001b[0;34m\u001b[0m\u001b[0m\n\u001b[1;32m    810\u001b[0m \u001b[0;34m\u001b[0m\u001b[0m\n\u001b[0;32m--> 811\u001b[0;31m         \u001b[0mself\u001b[0m\u001b[0;34m.\u001b[0m\u001b[0m_engine\u001b[0m \u001b[0;34m=\u001b[0m \u001b[0mself\u001b[0m\u001b[0;34m.\u001b[0m\u001b[0m_make_engine\u001b[0m\u001b[0;34m(\u001b[0m\u001b[0mself\u001b[0m\u001b[0;34m.\u001b[0m\u001b[0mengine\u001b[0m\u001b[0;34m)\u001b[0m\u001b[0;34m\u001b[0m\u001b[0;34m\u001b[0m\u001b[0m\n\u001b[0m\u001b[1;32m    812\u001b[0m \u001b[0;34m\u001b[0m\u001b[0m\n\u001b[1;32m    813\u001b[0m     \u001b[0;32mdef\u001b[0m \u001b[0mclose\u001b[0m\u001b[0;34m(\u001b[0m\u001b[0mself\u001b[0m\u001b[0;34m)\u001b[0m\u001b[0;34m:\u001b[0m\u001b[0;34m\u001b[0m\u001b[0;34m\u001b[0m\u001b[0m\n",
      "\u001b[0;32m~/.pyenv/versions/3.7.8/envs/plan_env/lib/python3.7/site-packages/pandas/io/parsers/readers.py\u001b[0m in \u001b[0;36m_make_engine\u001b[0;34m(self, engine)\u001b[0m\n\u001b[1;32m   1038\u001b[0m             )\n\u001b[1;32m   1039\u001b[0m         \u001b[0;31m# error: Too many arguments for \"ParserBase\"\u001b[0m\u001b[0;34m\u001b[0m\u001b[0;34m\u001b[0m\u001b[0;34m\u001b[0m\u001b[0m\n\u001b[0;32m-> 1040\u001b[0;31m         \u001b[0;32mreturn\u001b[0m \u001b[0mmapping\u001b[0m\u001b[0;34m[\u001b[0m\u001b[0mengine\u001b[0m\u001b[0;34m]\u001b[0m\u001b[0;34m(\u001b[0m\u001b[0mself\u001b[0m\u001b[0;34m.\u001b[0m\u001b[0mf\u001b[0m\u001b[0;34m,\u001b[0m \u001b[0;34m**\u001b[0m\u001b[0mself\u001b[0m\u001b[0;34m.\u001b[0m\u001b[0moptions\u001b[0m\u001b[0;34m)\u001b[0m  \u001b[0;31m# type: ignore[call-arg]\u001b[0m\u001b[0;34m\u001b[0m\u001b[0;34m\u001b[0m\u001b[0m\n\u001b[0m\u001b[1;32m   1041\u001b[0m \u001b[0;34m\u001b[0m\u001b[0m\n\u001b[1;32m   1042\u001b[0m     \u001b[0;32mdef\u001b[0m \u001b[0m_failover_to_python\u001b[0m\u001b[0;34m(\u001b[0m\u001b[0mself\u001b[0m\u001b[0;34m)\u001b[0m\u001b[0;34m:\u001b[0m\u001b[0;34m\u001b[0m\u001b[0;34m\u001b[0m\u001b[0m\n",
      "\u001b[0;32m~/.pyenv/versions/3.7.8/envs/plan_env/lib/python3.7/site-packages/pandas/io/parsers/c_parser_wrapper.py\u001b[0m in \u001b[0;36m__init__\u001b[0;34m(self, src, **kwds)\u001b[0m\n\u001b[1;32m     49\u001b[0m \u001b[0;34m\u001b[0m\u001b[0m\n\u001b[1;32m     50\u001b[0m         \u001b[0;31m# open handles\u001b[0m\u001b[0;34m\u001b[0m\u001b[0;34m\u001b[0m\u001b[0;34m\u001b[0m\u001b[0m\n\u001b[0;32m---> 51\u001b[0;31m         \u001b[0mself\u001b[0m\u001b[0;34m.\u001b[0m\u001b[0m_open_handles\u001b[0m\u001b[0;34m(\u001b[0m\u001b[0msrc\u001b[0m\u001b[0;34m,\u001b[0m \u001b[0mkwds\u001b[0m\u001b[0;34m)\u001b[0m\u001b[0;34m\u001b[0m\u001b[0;34m\u001b[0m\u001b[0m\n\u001b[0m\u001b[1;32m     52\u001b[0m         \u001b[0;32massert\u001b[0m \u001b[0mself\u001b[0m\u001b[0;34m.\u001b[0m\u001b[0mhandles\u001b[0m \u001b[0;32mis\u001b[0m \u001b[0;32mnot\u001b[0m \u001b[0;32mNone\u001b[0m\u001b[0;34m\u001b[0m\u001b[0;34m\u001b[0m\u001b[0m\n\u001b[1;32m     53\u001b[0m \u001b[0;34m\u001b[0m\u001b[0m\n",
      "\u001b[0;32m~/.pyenv/versions/3.7.8/envs/plan_env/lib/python3.7/site-packages/pandas/io/parsers/base_parser.py\u001b[0m in \u001b[0;36m_open_handles\u001b[0;34m(self, src, kwds)\u001b[0m\n\u001b[1;32m    227\u001b[0m             \u001b[0mmemory_map\u001b[0m\u001b[0;34m=\u001b[0m\u001b[0mkwds\u001b[0m\u001b[0;34m.\u001b[0m\u001b[0mget\u001b[0m\u001b[0;34m(\u001b[0m\u001b[0;34m\"memory_map\"\u001b[0m\u001b[0;34m,\u001b[0m \u001b[0;32mFalse\u001b[0m\u001b[0;34m)\u001b[0m\u001b[0;34m,\u001b[0m\u001b[0;34m\u001b[0m\u001b[0;34m\u001b[0m\u001b[0m\n\u001b[1;32m    228\u001b[0m             \u001b[0mstorage_options\u001b[0m\u001b[0;34m=\u001b[0m\u001b[0mkwds\u001b[0m\u001b[0;34m.\u001b[0m\u001b[0mget\u001b[0m\u001b[0;34m(\u001b[0m\u001b[0;34m\"storage_options\"\u001b[0m\u001b[0;34m,\u001b[0m \u001b[0;32mNone\u001b[0m\u001b[0;34m)\u001b[0m\u001b[0;34m,\u001b[0m\u001b[0;34m\u001b[0m\u001b[0;34m\u001b[0m\u001b[0m\n\u001b[0;32m--> 229\u001b[0;31m             \u001b[0merrors\u001b[0m\u001b[0;34m=\u001b[0m\u001b[0mkwds\u001b[0m\u001b[0;34m.\u001b[0m\u001b[0mget\u001b[0m\u001b[0;34m(\u001b[0m\u001b[0;34m\"encoding_errors\"\u001b[0m\u001b[0;34m,\u001b[0m \u001b[0;34m\"strict\"\u001b[0m\u001b[0;34m)\u001b[0m\u001b[0;34m,\u001b[0m\u001b[0;34m\u001b[0m\u001b[0;34m\u001b[0m\u001b[0m\n\u001b[0m\u001b[1;32m    230\u001b[0m         )\n\u001b[1;32m    231\u001b[0m \u001b[0;34m\u001b[0m\u001b[0m\n",
      "\u001b[0;32m~/.pyenv/versions/3.7.8/envs/plan_env/lib/python3.7/site-packages/pandas/io/common.py\u001b[0m in \u001b[0;36mget_handle\u001b[0;34m(path_or_buf, mode, encoding, compression, memory_map, is_text, errors, storage_options)\u001b[0m\n\u001b[1;32m    705\u001b[0m                 \u001b[0mencoding\u001b[0m\u001b[0;34m=\u001b[0m\u001b[0mioargs\u001b[0m\u001b[0;34m.\u001b[0m\u001b[0mencoding\u001b[0m\u001b[0;34m,\u001b[0m\u001b[0;34m\u001b[0m\u001b[0;34m\u001b[0m\u001b[0m\n\u001b[1;32m    706\u001b[0m                 \u001b[0merrors\u001b[0m\u001b[0;34m=\u001b[0m\u001b[0merrors\u001b[0m\u001b[0;34m,\u001b[0m\u001b[0;34m\u001b[0m\u001b[0;34m\u001b[0m\u001b[0m\n\u001b[0;32m--> 707\u001b[0;31m                 \u001b[0mnewline\u001b[0m\u001b[0;34m=\u001b[0m\u001b[0;34m\"\"\u001b[0m\u001b[0;34m,\u001b[0m\u001b[0;34m\u001b[0m\u001b[0;34m\u001b[0m\u001b[0m\n\u001b[0m\u001b[1;32m    708\u001b[0m             )\n\u001b[1;32m    709\u001b[0m         \u001b[0;32melse\u001b[0m\u001b[0;34m:\u001b[0m\u001b[0;34m\u001b[0m\u001b[0;34m\u001b[0m\u001b[0m\n",
      "\u001b[0;31mFileNotFoundError\u001b[0m: [Errno 2] No such file or directory: '../results/blocksworld/p-5-0-on-linear-simple-flag/regression.csv'"
     ]
    }
   ],
   "source": [
    "df = pd.read_csv('../results/blocksworld/p-5-0-on-linear-simple-flag/regression.csv')\n",
    "df = df[df.method == 'L0']\n",
    "df[\"complexity\"] = 0\n",
    "for i, row in enumerate(df.iterrows()):\n",
    "    #ls = eval(f'{row[1].feature_complexities}')\n",
    "    pass #df.iloc[i, -1] = sum(ls)\n",
    "features = 7\n",
    "df_short = df[df.total_features==features].sort_values([\"parameter\", \"score\", \"complexity\"], ascending=(True, False, True))\n",
    "fig, ax = plt.subplots(1,1, figsize=(9, 6))\n",
    "ax.set_title(f'# feat. = {features}')\n",
    "ax.plot(df_short.parameter.to_numpy(), df_short.score.to_numpy())\n",
    "ax.set_ylim((-1.1, 1.1))\n",
    "ax.set_ylabel('score - $R^2$')\n",
    "ax.set_xlabel('$\\lambda$')\n",
    "plt.xticks(rotation=90);\n",
    "plt.xticks(df_short.parameter.to_numpy())\n",
    "plt.xscale(\"log\")\n",
    "plt.show()\n",
    "df_short.iloc[df_short.score.argmax(), :].features_names.split(', '), df_short.iloc[df_short.score.argmax(), :].feature_weights, df_short.score.max(), df_short.iloc[df_short.score.argmax(), :][\"parameter\"]\n",
    "#df_short.iloc[df_short.score.argmax(), :].score, df_short.iloc[df_short.score.argmax(), :].mse"
   ]
  },
  {
   "cell_type": "code",
   "execution_count": 4,
   "id": "36fc1cec",
   "metadata": {},
   "outputs": [
    {
     "ename": "FileNotFoundError",
     "evalue": "[Errno 2] No such file or directory: '../results/blocksworld/p-5-0-on-linear-simple-flag/regression.csv'",
     "output_type": "error",
     "traceback": [
      "\u001b[0;31m---------------------------------------------------------------------------\u001b[0m",
      "\u001b[0;31mFileNotFoundError\u001b[0m                         Traceback (most recent call last)",
      "\u001b[0;32m/tmp/ipykernel_39320/1975177071.py\u001b[0m in \u001b[0;36m<module>\u001b[0;34m\u001b[0m\n\u001b[0;32m----> 1\u001b[0;31m \u001b[0mdf\u001b[0m \u001b[0;34m=\u001b[0m \u001b[0mpd\u001b[0m\u001b[0;34m.\u001b[0m\u001b[0mread_csv\u001b[0m\u001b[0;34m(\u001b[0m\u001b[0;34m'../results/blocksworld/p-5-0-on-linear-simple-flag/regression.csv'\u001b[0m\u001b[0;34m)\u001b[0m\u001b[0;34m\u001b[0m\u001b[0;34m\u001b[0m\u001b[0m\n\u001b[0m\u001b[1;32m      2\u001b[0m \u001b[0mdf\u001b[0m \u001b[0;34m=\u001b[0m \u001b[0mdf\u001b[0m\u001b[0;34m[\u001b[0m\u001b[0mdf\u001b[0m\u001b[0;34m.\u001b[0m\u001b[0mmethod\u001b[0m \u001b[0;34m==\u001b[0m \u001b[0;34m'L0'\u001b[0m\u001b[0;34m]\u001b[0m\u001b[0;34m\u001b[0m\u001b[0;34m\u001b[0m\u001b[0m\n\u001b[1;32m      3\u001b[0m \u001b[0mdf\u001b[0m\u001b[0;34m[\u001b[0m\u001b[0;34m\"complexity\"\u001b[0m\u001b[0;34m]\u001b[0m \u001b[0;34m=\u001b[0m \u001b[0;36m0\u001b[0m\u001b[0;34m\u001b[0m\u001b[0;34m\u001b[0m\u001b[0m\n\u001b[1;32m      4\u001b[0m \u001b[0;32mfor\u001b[0m \u001b[0mi\u001b[0m\u001b[0;34m,\u001b[0m \u001b[0mrow\u001b[0m \u001b[0;32min\u001b[0m \u001b[0menumerate\u001b[0m\u001b[0;34m(\u001b[0m\u001b[0mdf\u001b[0m\u001b[0;34m.\u001b[0m\u001b[0miterrows\u001b[0m\u001b[0;34m(\u001b[0m\u001b[0;34m)\u001b[0m\u001b[0;34m)\u001b[0m\u001b[0;34m:\u001b[0m\u001b[0;34m\u001b[0m\u001b[0;34m\u001b[0m\u001b[0m\n\u001b[1;32m      5\u001b[0m     \u001b[0;31m#ls = eval(f'{row[1].feature_complexities}')\u001b[0m\u001b[0;34m\u001b[0m\u001b[0;34m\u001b[0m\u001b[0;34m\u001b[0m\u001b[0m\n",
      "\u001b[0;32m~/.pyenv/versions/3.7.8/envs/plan_env/lib/python3.7/site-packages/pandas/util/_decorators.py\u001b[0m in \u001b[0;36mwrapper\u001b[0;34m(*args, **kwargs)\u001b[0m\n\u001b[1;32m    309\u001b[0m                     \u001b[0mstacklevel\u001b[0m\u001b[0;34m=\u001b[0m\u001b[0mstacklevel\u001b[0m\u001b[0;34m,\u001b[0m\u001b[0;34m\u001b[0m\u001b[0;34m\u001b[0m\u001b[0m\n\u001b[1;32m    310\u001b[0m                 )\n\u001b[0;32m--> 311\u001b[0;31m             \u001b[0;32mreturn\u001b[0m \u001b[0mfunc\u001b[0m\u001b[0;34m(\u001b[0m\u001b[0;34m*\u001b[0m\u001b[0margs\u001b[0m\u001b[0;34m,\u001b[0m \u001b[0;34m**\u001b[0m\u001b[0mkwargs\u001b[0m\u001b[0;34m)\u001b[0m\u001b[0;34m\u001b[0m\u001b[0;34m\u001b[0m\u001b[0m\n\u001b[0m\u001b[1;32m    312\u001b[0m \u001b[0;34m\u001b[0m\u001b[0m\n\u001b[1;32m    313\u001b[0m         \u001b[0;32mreturn\u001b[0m \u001b[0mwrapper\u001b[0m\u001b[0;34m\u001b[0m\u001b[0;34m\u001b[0m\u001b[0m\n",
      "\u001b[0;32m~/.pyenv/versions/3.7.8/envs/plan_env/lib/python3.7/site-packages/pandas/io/parsers/readers.py\u001b[0m in \u001b[0;36mread_csv\u001b[0;34m(filepath_or_buffer, sep, delimiter, header, names, index_col, usecols, squeeze, prefix, mangle_dupe_cols, dtype, engine, converters, true_values, false_values, skipinitialspace, skiprows, skipfooter, nrows, na_values, keep_default_na, na_filter, verbose, skip_blank_lines, parse_dates, infer_datetime_format, keep_date_col, date_parser, dayfirst, cache_dates, iterator, chunksize, compression, thousands, decimal, lineterminator, quotechar, quoting, doublequote, escapechar, comment, encoding, encoding_errors, dialect, error_bad_lines, warn_bad_lines, on_bad_lines, delim_whitespace, low_memory, memory_map, float_precision, storage_options)\u001b[0m\n\u001b[1;32m    584\u001b[0m     \u001b[0mkwds\u001b[0m\u001b[0;34m.\u001b[0m\u001b[0mupdate\u001b[0m\u001b[0;34m(\u001b[0m\u001b[0mkwds_defaults\u001b[0m\u001b[0;34m)\u001b[0m\u001b[0;34m\u001b[0m\u001b[0;34m\u001b[0m\u001b[0m\n\u001b[1;32m    585\u001b[0m \u001b[0;34m\u001b[0m\u001b[0m\n\u001b[0;32m--> 586\u001b[0;31m     \u001b[0;32mreturn\u001b[0m \u001b[0m_read\u001b[0m\u001b[0;34m(\u001b[0m\u001b[0mfilepath_or_buffer\u001b[0m\u001b[0;34m,\u001b[0m \u001b[0mkwds\u001b[0m\u001b[0;34m)\u001b[0m\u001b[0;34m\u001b[0m\u001b[0;34m\u001b[0m\u001b[0m\n\u001b[0m\u001b[1;32m    587\u001b[0m \u001b[0;34m\u001b[0m\u001b[0m\n\u001b[1;32m    588\u001b[0m \u001b[0;34m\u001b[0m\u001b[0m\n",
      "\u001b[0;32m~/.pyenv/versions/3.7.8/envs/plan_env/lib/python3.7/site-packages/pandas/io/parsers/readers.py\u001b[0m in \u001b[0;36m_read\u001b[0;34m(filepath_or_buffer, kwds)\u001b[0m\n\u001b[1;32m    480\u001b[0m \u001b[0;34m\u001b[0m\u001b[0m\n\u001b[1;32m    481\u001b[0m     \u001b[0;31m# Create the parser.\u001b[0m\u001b[0;34m\u001b[0m\u001b[0;34m\u001b[0m\u001b[0;34m\u001b[0m\u001b[0m\n\u001b[0;32m--> 482\u001b[0;31m     \u001b[0mparser\u001b[0m \u001b[0;34m=\u001b[0m \u001b[0mTextFileReader\u001b[0m\u001b[0;34m(\u001b[0m\u001b[0mfilepath_or_buffer\u001b[0m\u001b[0;34m,\u001b[0m \u001b[0;34m**\u001b[0m\u001b[0mkwds\u001b[0m\u001b[0;34m)\u001b[0m\u001b[0;34m\u001b[0m\u001b[0;34m\u001b[0m\u001b[0m\n\u001b[0m\u001b[1;32m    483\u001b[0m \u001b[0;34m\u001b[0m\u001b[0m\n\u001b[1;32m    484\u001b[0m     \u001b[0;32mif\u001b[0m \u001b[0mchunksize\u001b[0m \u001b[0;32mor\u001b[0m \u001b[0miterator\u001b[0m\u001b[0;34m:\u001b[0m\u001b[0;34m\u001b[0m\u001b[0;34m\u001b[0m\u001b[0m\n",
      "\u001b[0;32m~/.pyenv/versions/3.7.8/envs/plan_env/lib/python3.7/site-packages/pandas/io/parsers/readers.py\u001b[0m in \u001b[0;36m__init__\u001b[0;34m(self, f, engine, **kwds)\u001b[0m\n\u001b[1;32m    809\u001b[0m             \u001b[0mself\u001b[0m\u001b[0;34m.\u001b[0m\u001b[0moptions\u001b[0m\u001b[0;34m[\u001b[0m\u001b[0;34m\"has_index_names\"\u001b[0m\u001b[0;34m]\u001b[0m \u001b[0;34m=\u001b[0m \u001b[0mkwds\u001b[0m\u001b[0;34m[\u001b[0m\u001b[0;34m\"has_index_names\"\u001b[0m\u001b[0;34m]\u001b[0m\u001b[0;34m\u001b[0m\u001b[0;34m\u001b[0m\u001b[0m\n\u001b[1;32m    810\u001b[0m \u001b[0;34m\u001b[0m\u001b[0m\n\u001b[0;32m--> 811\u001b[0;31m         \u001b[0mself\u001b[0m\u001b[0;34m.\u001b[0m\u001b[0m_engine\u001b[0m \u001b[0;34m=\u001b[0m \u001b[0mself\u001b[0m\u001b[0;34m.\u001b[0m\u001b[0m_make_engine\u001b[0m\u001b[0;34m(\u001b[0m\u001b[0mself\u001b[0m\u001b[0;34m.\u001b[0m\u001b[0mengine\u001b[0m\u001b[0;34m)\u001b[0m\u001b[0;34m\u001b[0m\u001b[0;34m\u001b[0m\u001b[0m\n\u001b[0m\u001b[1;32m    812\u001b[0m \u001b[0;34m\u001b[0m\u001b[0m\n\u001b[1;32m    813\u001b[0m     \u001b[0;32mdef\u001b[0m \u001b[0mclose\u001b[0m\u001b[0;34m(\u001b[0m\u001b[0mself\u001b[0m\u001b[0;34m)\u001b[0m\u001b[0;34m:\u001b[0m\u001b[0;34m\u001b[0m\u001b[0;34m\u001b[0m\u001b[0m\n",
      "\u001b[0;32m~/.pyenv/versions/3.7.8/envs/plan_env/lib/python3.7/site-packages/pandas/io/parsers/readers.py\u001b[0m in \u001b[0;36m_make_engine\u001b[0;34m(self, engine)\u001b[0m\n\u001b[1;32m   1038\u001b[0m             )\n\u001b[1;32m   1039\u001b[0m         \u001b[0;31m# error: Too many arguments for \"ParserBase\"\u001b[0m\u001b[0;34m\u001b[0m\u001b[0;34m\u001b[0m\u001b[0;34m\u001b[0m\u001b[0m\n\u001b[0;32m-> 1040\u001b[0;31m         \u001b[0;32mreturn\u001b[0m \u001b[0mmapping\u001b[0m\u001b[0;34m[\u001b[0m\u001b[0mengine\u001b[0m\u001b[0;34m]\u001b[0m\u001b[0;34m(\u001b[0m\u001b[0mself\u001b[0m\u001b[0;34m.\u001b[0m\u001b[0mf\u001b[0m\u001b[0;34m,\u001b[0m \u001b[0;34m**\u001b[0m\u001b[0mself\u001b[0m\u001b[0;34m.\u001b[0m\u001b[0moptions\u001b[0m\u001b[0;34m)\u001b[0m  \u001b[0;31m# type: ignore[call-arg]\u001b[0m\u001b[0;34m\u001b[0m\u001b[0;34m\u001b[0m\u001b[0m\n\u001b[0m\u001b[1;32m   1041\u001b[0m \u001b[0;34m\u001b[0m\u001b[0m\n\u001b[1;32m   1042\u001b[0m     \u001b[0;32mdef\u001b[0m \u001b[0m_failover_to_python\u001b[0m\u001b[0;34m(\u001b[0m\u001b[0mself\u001b[0m\u001b[0;34m)\u001b[0m\u001b[0;34m:\u001b[0m\u001b[0;34m\u001b[0m\u001b[0;34m\u001b[0m\u001b[0m\n",
      "\u001b[0;32m~/.pyenv/versions/3.7.8/envs/plan_env/lib/python3.7/site-packages/pandas/io/parsers/c_parser_wrapper.py\u001b[0m in \u001b[0;36m__init__\u001b[0;34m(self, src, **kwds)\u001b[0m\n\u001b[1;32m     49\u001b[0m \u001b[0;34m\u001b[0m\u001b[0m\n\u001b[1;32m     50\u001b[0m         \u001b[0;31m# open handles\u001b[0m\u001b[0;34m\u001b[0m\u001b[0;34m\u001b[0m\u001b[0;34m\u001b[0m\u001b[0m\n\u001b[0;32m---> 51\u001b[0;31m         \u001b[0mself\u001b[0m\u001b[0;34m.\u001b[0m\u001b[0m_open_handles\u001b[0m\u001b[0;34m(\u001b[0m\u001b[0msrc\u001b[0m\u001b[0;34m,\u001b[0m \u001b[0mkwds\u001b[0m\u001b[0;34m)\u001b[0m\u001b[0;34m\u001b[0m\u001b[0;34m\u001b[0m\u001b[0m\n\u001b[0m\u001b[1;32m     52\u001b[0m         \u001b[0;32massert\u001b[0m \u001b[0mself\u001b[0m\u001b[0;34m.\u001b[0m\u001b[0mhandles\u001b[0m \u001b[0;32mis\u001b[0m \u001b[0;32mnot\u001b[0m \u001b[0;32mNone\u001b[0m\u001b[0;34m\u001b[0m\u001b[0;34m\u001b[0m\u001b[0m\n\u001b[1;32m     53\u001b[0m \u001b[0;34m\u001b[0m\u001b[0m\n",
      "\u001b[0;32m~/.pyenv/versions/3.7.8/envs/plan_env/lib/python3.7/site-packages/pandas/io/parsers/base_parser.py\u001b[0m in \u001b[0;36m_open_handles\u001b[0;34m(self, src, kwds)\u001b[0m\n\u001b[1;32m    227\u001b[0m             \u001b[0mmemory_map\u001b[0m\u001b[0;34m=\u001b[0m\u001b[0mkwds\u001b[0m\u001b[0;34m.\u001b[0m\u001b[0mget\u001b[0m\u001b[0;34m(\u001b[0m\u001b[0;34m\"memory_map\"\u001b[0m\u001b[0;34m,\u001b[0m \u001b[0;32mFalse\u001b[0m\u001b[0;34m)\u001b[0m\u001b[0;34m,\u001b[0m\u001b[0;34m\u001b[0m\u001b[0;34m\u001b[0m\u001b[0m\n\u001b[1;32m    228\u001b[0m             \u001b[0mstorage_options\u001b[0m\u001b[0;34m=\u001b[0m\u001b[0mkwds\u001b[0m\u001b[0;34m.\u001b[0m\u001b[0mget\u001b[0m\u001b[0;34m(\u001b[0m\u001b[0;34m\"storage_options\"\u001b[0m\u001b[0;34m,\u001b[0m \u001b[0;32mNone\u001b[0m\u001b[0;34m)\u001b[0m\u001b[0;34m,\u001b[0m\u001b[0;34m\u001b[0m\u001b[0;34m\u001b[0m\u001b[0m\n\u001b[0;32m--> 229\u001b[0;31m             \u001b[0merrors\u001b[0m\u001b[0;34m=\u001b[0m\u001b[0mkwds\u001b[0m\u001b[0;34m.\u001b[0m\u001b[0mget\u001b[0m\u001b[0;34m(\u001b[0m\u001b[0;34m\"encoding_errors\"\u001b[0m\u001b[0;34m,\u001b[0m \u001b[0;34m\"strict\"\u001b[0m\u001b[0;34m)\u001b[0m\u001b[0;34m,\u001b[0m\u001b[0;34m\u001b[0m\u001b[0;34m\u001b[0m\u001b[0m\n\u001b[0m\u001b[1;32m    230\u001b[0m         )\n\u001b[1;32m    231\u001b[0m \u001b[0;34m\u001b[0m\u001b[0m\n",
      "\u001b[0;32m~/.pyenv/versions/3.7.8/envs/plan_env/lib/python3.7/site-packages/pandas/io/common.py\u001b[0m in \u001b[0;36mget_handle\u001b[0;34m(path_or_buf, mode, encoding, compression, memory_map, is_text, errors, storage_options)\u001b[0m\n\u001b[1;32m    705\u001b[0m                 \u001b[0mencoding\u001b[0m\u001b[0;34m=\u001b[0m\u001b[0mioargs\u001b[0m\u001b[0;34m.\u001b[0m\u001b[0mencoding\u001b[0m\u001b[0;34m,\u001b[0m\u001b[0;34m\u001b[0m\u001b[0;34m\u001b[0m\u001b[0m\n\u001b[1;32m    706\u001b[0m                 \u001b[0merrors\u001b[0m\u001b[0;34m=\u001b[0m\u001b[0merrors\u001b[0m\u001b[0;34m,\u001b[0m\u001b[0;34m\u001b[0m\u001b[0;34m\u001b[0m\u001b[0m\n\u001b[0;32m--> 707\u001b[0;31m                 \u001b[0mnewline\u001b[0m\u001b[0;34m=\u001b[0m\u001b[0;34m\"\"\u001b[0m\u001b[0;34m,\u001b[0m\u001b[0;34m\u001b[0m\u001b[0;34m\u001b[0m\u001b[0m\n\u001b[0m\u001b[1;32m    708\u001b[0m             )\n\u001b[1;32m    709\u001b[0m         \u001b[0;32melse\u001b[0m\u001b[0;34m:\u001b[0m\u001b[0;34m\u001b[0m\u001b[0;34m\u001b[0m\u001b[0m\n",
      "\u001b[0;31mFileNotFoundError\u001b[0m: [Errno 2] No such file or directory: '../results/blocksworld/p-5-0-on-linear-simple-flag/regression.csv'"
     ]
    }
   ],
   "source": [
    "df = pd.read_csv('../results/blocksworld/p-5-0-on-linear-simple-flag/regression.csv')\n",
    "df = df[df.method == 'L0']\n",
    "df[\"complexity\"] = 0\n",
    "for i, row in enumerate(df.iterrows()):\n",
    "    #ls = eval(f'{row[1].feature_complexities}')\n",
    "    pass #df.iloc[i, -1] = sum(ls)\n",
    "features = 7\n",
    "df_short = df[df.total_features==features].sort_values([\"parameter\", \"score\", \"complexity\"], ascending=(True, False, True))"
   ]
  },
  {
   "cell_type": "code",
   "execution_count": 15,
   "id": "e30a9ef8",
   "metadata": {},
   "outputs": [
    {
     "data": {
      "text/html": [
       "<div>\n",
       "<style scoped>\n",
       "    .dataframe tbody tr th:only-of-type {\n",
       "        vertical-align: middle;\n",
       "    }\n",
       "\n",
       "    .dataframe tbody tr th {\n",
       "        vertical-align: top;\n",
       "    }\n",
       "\n",
       "    .dataframe thead th {\n",
       "        text-align: right;\n",
       "    }\n",
       "</style>\n",
       "<table border=\"1\" class=\"dataframe\">\n",
       "  <thead>\n",
       "    <tr style=\"text-align: right;\">\n",
       "      <th></th>\n",
       "      <th>parameter</th>\n",
       "      <th>feature_complexities</th>\n",
       "      <th>score</th>\n",
       "    </tr>\n",
       "  </thead>\n",
       "  <tbody>\n",
       "    <tr>\n",
       "      <th>99</th>\n",
       "      <td>2.966650e-17</td>\n",
       "      <td>[1.0, 1.0, 0.0, 0.0, 1.0, 5.0]</td>\n",
       "      <td>-2.029571e+02</td>\n",
       "    </tr>\n",
       "    <tr>\n",
       "      <th>98</th>\n",
       "      <td>3.708310e-17</td>\n",
       "      <td>[1.0, 1.0, 0.0, 0.0, 1.0, 5.0]</td>\n",
       "      <td>-2.029570e+02</td>\n",
       "    </tr>\n",
       "    <tr>\n",
       "      <th>97</th>\n",
       "      <td>4.635390e-17</td>\n",
       "      <td>[1.0, 1.0, 0.0, 0.0, 1.0, 5.0]</td>\n",
       "      <td>-2.029573e+02</td>\n",
       "    </tr>\n",
       "    <tr>\n",
       "      <th>96</th>\n",
       "      <td>5.794230e-17</td>\n",
       "      <td>[1.0, 1.0, 0.0, 0.0, 1.0, 5.0]</td>\n",
       "      <td>-2.029570e+02</td>\n",
       "    </tr>\n",
       "    <tr>\n",
       "      <th>95</th>\n",
       "      <td>7.242790e-17</td>\n",
       "      <td>[1.0, 1.0, 0.0, 0.0, 1.0, 5.0]</td>\n",
       "      <td>-2.029574e+02</td>\n",
       "    </tr>\n",
       "    <tr>\n",
       "      <th>...</th>\n",
       "      <td>...</td>\n",
       "      <td>...</td>\n",
       "      <td>...</td>\n",
       "    </tr>\n",
       "    <tr>\n",
       "      <th>4</th>\n",
       "      <td>5.938380e-06</td>\n",
       "      <td>[1.0, 1.0, 0.0, 0.0, 1.0, 5.0]</td>\n",
       "      <td>-2.052166e+02</td>\n",
       "    </tr>\n",
       "    <tr>\n",
       "      <th>3</th>\n",
       "      <td>5.956720e-05</td>\n",
       "      <td>[1.0, 1.0, 0.0, 1.0, 5.0]</td>\n",
       "      <td>-2.070900e+02</td>\n",
       "    </tr>\n",
       "    <tr>\n",
       "      <th>2</th>\n",
       "      <td>3.093970e-04</td>\n",
       "      <td>[1.0, 1.0, 0.0]</td>\n",
       "      <td>-2.370191e+02</td>\n",
       "    </tr>\n",
       "    <tr>\n",
       "      <th>1</th>\n",
       "      <td>1.236450e-03</td>\n",
       "      <td>[1.0]</td>\n",
       "      <td>-3.983413e+02</td>\n",
       "    </tr>\n",
       "    <tr>\n",
       "      <th>0</th>\n",
       "      <td>1.248930e-03</td>\n",
       "      <td>[]</td>\n",
       "      <td>-2.524829e+30</td>\n",
       "    </tr>\n",
       "  </tbody>\n",
       "</table>\n",
       "<p>100 rows × 3 columns</p>\n",
       "</div>"
      ],
      "text/plain": [
       "       parameter            feature_complexities         score\n",
       "99  2.966650e-17  [1.0, 1.0, 0.0, 0.0, 1.0, 5.0] -2.029571e+02\n",
       "98  3.708310e-17  [1.0, 1.0, 0.0, 0.0, 1.0, 5.0] -2.029570e+02\n",
       "97  4.635390e-17  [1.0, 1.0, 0.0, 0.0, 1.0, 5.0] -2.029573e+02\n",
       "96  5.794230e-17  [1.0, 1.0, 0.0, 0.0, 1.0, 5.0] -2.029570e+02\n",
       "95  7.242790e-17  [1.0, 1.0, 0.0, 0.0, 1.0, 5.0] -2.029574e+02\n",
       "..           ...                             ...           ...\n",
       "4   5.938380e-06  [1.0, 1.0, 0.0, 0.0, 1.0, 5.0] -2.052166e+02\n",
       "3   5.956720e-05       [1.0, 1.0, 0.0, 1.0, 5.0] -2.070900e+02\n",
       "2   3.093970e-04                 [1.0, 1.0, 0.0] -2.370191e+02\n",
       "1   1.236450e-03                           [1.0] -3.983413e+02\n",
       "0   1.248930e-03                              [] -2.524829e+30\n",
       "\n",
       "[100 rows x 3 columns]"
      ]
     },
     "execution_count": 15,
     "metadata": {},
     "output_type": "execute_result"
    }
   ],
   "source": [
    "df_short.sort_values(\"parameter\", ascending=True)[[\"parameter\", \"feature_complexities\", \"score\"]]"
   ]
  },
  {
   "cell_type": "markdown",
   "id": "9f55c7ec",
   "metadata": {},
   "source": [
    "### Clear block - 4 blocks instance"
   ]
  },
  {
   "cell_type": "code",
   "execution_count": 4,
   "id": "67cfeced",
   "metadata": {},
   "outputs": [
    {
     "name": "stdout",
     "output_type": "stream",
     "text": [
      "[ 1 16 31 46 61 76 91]\n"
     ]
    },
    {
     "data": {
      "image/png": "[encoded data removed]",
      "text/plain": [
       "<Figure size 648x432 with 1 Axes>"
      ]
     },
     "metadata": {
      "needs_background": "light"
     },
     "output_type": "display_data"
    },
    {
     "data": {
      "text/plain": [
       "([\"['n_concept_distance(c_primitive(clear,0),r_primitive(on,0,1),c_primitive(clear_g,0))'\",\n",
       "  \"'n_count(r_not(r_identity(c_primitive(holding,0))))']\"],\n",
       " '[16.000000000000004, 2.0, -1.0]',\n",
       " 1.0)"
      ]
     },
     "execution_count": 4,
     "metadata": {},
     "output_type": "execute_result"
    }
   ],
   "source": [
    "df = pd.read_csv('../runs/blocksworld_4-p-4-0-clear-linear-flag.csv')\n",
    "print(df.total_features.unique())\n",
    "df = df[df.method == 'L0']\n",
    "df[\"complexity\"] = 0\n",
    "for i, row in enumerate(df.iterrows()):\n",
    "    ls = eval(f'{row[1].feature_complexities}')\n",
    "    df.iloc[i, -1] = sum(ls)\n",
    "features = 91\n",
    "df_short = df[df.total_features==features].sort_values([\"parameter\", \"score\", \"complexity\"], ascending=(True, False, True))\n",
    "fig, ax = plt.subplots(1,1, figsize=(9, 6))\n",
    "ax.set_title(f'# feat. = {features}')\n",
    "ax.plot(df_short.parameter.to_numpy(), df_short.score.to_numpy())\n",
    "ax.set_ylim((-0.2, 1.1))\n",
    "ax.set_ylabel('score - $R^2$')\n",
    "ax.set_xlabel('$\\lambda$')\n",
    "plt.xticks(rotation=90);\n",
    "plt.xticks(df_short.parameter.to_numpy())\n",
    "plt.xscale(\"log\")\n",
    "plt.show()\n",
    "df_short.iloc[df_short.score.argmax(), :].features_names.split(', '), df_short.iloc[df_short.score.argmax(), :].feature_weights, df_short.score.max()"
   ]
  },
  {
   "cell_type": "markdown",
   "id": "f6916bf6",
   "metadata": {},
   "source": [
    "### Clear block - 5 blocks instance"
   ]
  },
  {
   "cell_type": "code",
   "execution_count": 5,
   "id": "3ecfa509",
   "metadata": {},
   "outputs": [
    {
     "name": "stdout",
     "output_type": "stream",
     "text": [
      "[ 1 21 41 61 81 88]\n"
     ]
    },
    {
     "data": {
      "image/png": "[encoded data removed]",
      "text/plain": [
       "<Figure size 648x432 with 1 Axes>"
      ]
     },
     "metadata": {
      "needs_background": "light"
     },
     "output_type": "display_data"
    },
    {
     "data": {
      "text/plain": [
       "([\"['n_concept_distance(c_primitive(clear,0),r_top,c_primitive(holding,0))']\"],\n",
       " '[2.0, 1.0]',\n",
       " 1.0)"
      ]
     },
     "execution_count": 5,
     "metadata": {},
     "output_type": "execute_result"
    }
   ],
   "source": [
    "df = pd.read_csv('../runs/blocksworld_4-p-5-0-clear-linear-flag.csv')\n",
    "print(df.total_features.unique())\n",
    "df[\"complexity\"] = 0\n",
    "df = df[df.method == 'L0']\n",
    "df[\"complexity\"] = 0\n",
    "for i, row in enumerate(df.iterrows()):\n",
    "    ls = eval(f'{row[1].feature_complexities}')\n",
    "    df.iloc[i, -1] = sum(ls)\n",
    "features = 88\n",
    "df_short = df[df.total_features==features].sort_values([\"parameter\", \"score\", \"complexity\"], ascending=(True, False, True))\n",
    "fig, ax = plt.subplots(1,1, figsize=(9, 6))\n",
    "ax.set_title(f'# feat. = {features}')\n",
    "ax.plot(df_short.parameter.to_numpy(), df_short.score.to_numpy())\n",
    "ax.set_ylim((-0.2, 1.1))\n",
    "ax.set_ylabel('score - $R^2$')\n",
    "ax.set_xlabel('$\\lambda$')\n",
    "plt.xticks(rotation=90);\n",
    "plt.xticks(df_short.parameter.to_numpy())\n",
    "plt.xscale(\"log\")\n",
    "plt.show()\n",
    "df_short.iloc[df_short.score.argmax(), :].features_names.split(', '), df_short.iloc[df_short.score.argmax(), :].feature_weights, df_short.score.max()"
   ]
  },
  {
   "cell_type": "markdown",
   "id": "c5b9cd5b",
   "metadata": {},
   "source": [
    "### Clear block - 6 blocks instance"
   ]
  },
  {
   "cell_type": "code",
   "execution_count": 6,
   "id": "26c91507",
   "metadata": {},
   "outputs": [
    {
     "name": "stdout",
     "output_type": "stream",
     "text": [
      "[ 1 21 41 61 81 88]\n"
     ]
    },
    {
     "data": {
      "image/png": "[encoded data removed]",
      "text/plain": [
       "<Figure size 648x432 with 1 Axes>"
      ]
     },
     "metadata": {
      "needs_background": "light"
     },
     "output_type": "display_data"
    },
    {
     "data": {
      "text/plain": [
       "([\"['n_concept_distance(c_primitive(clear,0),r_primitive(on,0,1),c_primitive(clear_g,0))'\",\n",
       "  \"'n_concept_distance(c_primitive(clear,0),r_top,c_primitive(holding,0))']\"],\n",
       " '[8.881784197001252e-16, 2.0, 1.0]',\n",
       " 1.0)"
      ]
     },
     "execution_count": 6,
     "metadata": {},
     "output_type": "execute_result"
    }
   ],
   "source": [
    "df = pd.read_csv('../runs/blocksworld_4-p-6-0-clear-linear-flag.csv')\n",
    "print(df.total_features.unique())\n",
    "df[\"complexity\"] = 0\n",
    "df = df[df.method == 'L0']\n",
    "df[\"complexity\"] = 0\n",
    "for i, row in enumerate(df.iterrows()):\n",
    "    ls = eval(f'{row[1].feature_complexities}')\n",
    "    df.iloc[i, -1] = sum(ls)\n",
    "features = 88\n",
    "df_short = df[df.total_features==features].sort_values([\"parameter\", \"score\", \"complexity\"], ascending=(True, False, True))\n",
    "fig, ax = plt.subplots(1,1, figsize=(9, 6))\n",
    "ax.set_title(f'# feat. = {features}')\n",
    "ax.plot(df_short.parameter.to_numpy(), df_short.score.to_numpy())\n",
    "ax.set_ylim((-0.2, 1.1))\n",
    "ax.set_ylabel('score - $R^2$')\n",
    "ax.set_xlabel('$\\lambda$')\n",
    "plt.xticks(rotation=90);\n",
    "plt.xticks(df_short.parameter.to_numpy())\n",
    "plt.xscale(\"log\")\n",
    "\n",
    "plt.show()\n",
    "df_short.iloc[df_short.score.argmax(), :].features_names.split(', '), df_short.iloc[df_short.score.argmax(), :].feature_weights, df_short.score.max()"
   ]
  },
  {
   "cell_type": "markdown",
   "id": "e574507b",
   "metadata": {},
   "source": [
    "### Clear block - multiple instances"
   ]
  },
  {
   "cell_type": "code",
   "execution_count": 21,
   "id": "119a1d69",
   "metadata": {},
   "outputs": [
    {
     "ename": "FileNotFoundError",
     "evalue": "[Errno 2] No such file or directory: '../runs/blocksworld-multiple-instances.csv'",
     "output_type": "error",
     "traceback": [
      "\u001b[0;31m---------------------------------------------------------------------------\u001b[0m",
      "\u001b[0;31mFileNotFoundError\u001b[0m                         Traceback (most recent call last)",
      "\u001b[0;32m/tmp/ipykernel_52243/1910418235.py\u001b[0m in \u001b[0;36m<module>\u001b[0;34m\u001b[0m\n\u001b[0;32m----> 1\u001b[0;31m \u001b[0mdf\u001b[0m \u001b[0;34m=\u001b[0m \u001b[0mpd\u001b[0m\u001b[0;34m.\u001b[0m\u001b[0mread_csv\u001b[0m\u001b[0;34m(\u001b[0m\u001b[0;34m'../runs/blocksworld-multiple-instances.csv'\u001b[0m\u001b[0;34m)\u001b[0m\u001b[0;34m\u001b[0m\u001b[0;34m\u001b[0m\u001b[0m\n\u001b[0m\u001b[1;32m      2\u001b[0m \u001b[0mdf\u001b[0m\u001b[0;34m[\u001b[0m\u001b[0;34m\"complexity\"\u001b[0m\u001b[0;34m]\u001b[0m \u001b[0;34m=\u001b[0m \u001b[0;36m0\u001b[0m\u001b[0;34m\u001b[0m\u001b[0;34m\u001b[0m\u001b[0m\n\u001b[1;32m      3\u001b[0m \u001b[0mdf\u001b[0m \u001b[0;34m=\u001b[0m \u001b[0mdf\u001b[0m\u001b[0;34m[\u001b[0m\u001b[0mdf\u001b[0m\u001b[0;34m.\u001b[0m\u001b[0mmethod\u001b[0m \u001b[0;34m==\u001b[0m \u001b[0;34m'L0'\u001b[0m\u001b[0;34m]\u001b[0m\u001b[0;34m\u001b[0m\u001b[0;34m\u001b[0m\u001b[0m\n\u001b[1;32m      4\u001b[0m \u001b[0mdf\u001b[0m\u001b[0;34m[\u001b[0m\u001b[0;34m\"complexity\"\u001b[0m\u001b[0;34m]\u001b[0m \u001b[0;34m=\u001b[0m \u001b[0;36m0\u001b[0m\u001b[0;34m\u001b[0m\u001b[0;34m\u001b[0m\u001b[0m\n\u001b[1;32m      5\u001b[0m \u001b[0;32mfor\u001b[0m \u001b[0mi\u001b[0m\u001b[0;34m,\u001b[0m \u001b[0mrow\u001b[0m \u001b[0;32min\u001b[0m \u001b[0menumerate\u001b[0m\u001b[0;34m(\u001b[0m\u001b[0mdf\u001b[0m\u001b[0;34m.\u001b[0m\u001b[0miterrows\u001b[0m\u001b[0;34m(\u001b[0m\u001b[0;34m)\u001b[0m\u001b[0;34m)\u001b[0m\u001b[0;34m:\u001b[0m\u001b[0;34m\u001b[0m\u001b[0;34m\u001b[0m\u001b[0m\n",
      "\u001b[0;32m~/.pyenv/versions/3.7.8/envs/plan_env/lib/python3.7/site-packages/pandas/util/_decorators.py\u001b[0m in \u001b[0;36mwrapper\u001b[0;34m(*args, **kwargs)\u001b[0m\n\u001b[1;32m    309\u001b[0m                     \u001b[0mstacklevel\u001b[0m\u001b[0;34m=\u001b[0m\u001b[0mstacklevel\u001b[0m\u001b[0;34m,\u001b[0m\u001b[0;34m\u001b[0m\u001b[0;34m\u001b[0m\u001b[0m\n\u001b[1;32m    310\u001b[0m                 )\n\u001b[0;32m--> 311\u001b[0;31m             \u001b[0;32mreturn\u001b[0m \u001b[0mfunc\u001b[0m\u001b[0;34m(\u001b[0m\u001b[0;34m*\u001b[0m\u001b[0margs\u001b[0m\u001b[0;34m,\u001b[0m \u001b[0;34m**\u001b[0m\u001b[0mkwargs\u001b[0m\u001b[0;34m)\u001b[0m\u001b[0;34m\u001b[0m\u001b[0;34m\u001b[0m\u001b[0m\n\u001b[0m\u001b[1;32m    312\u001b[0m \u001b[0;34m\u001b[0m\u001b[0m\n\u001b[1;32m    313\u001b[0m         \u001b[0;32mreturn\u001b[0m \u001b[0mwrapper\u001b[0m\u001b[0;34m\u001b[0m\u001b[0;34m\u001b[0m\u001b[0m\n",
      "\u001b[0;32m~/.pyenv/versions/3.7.8/envs/plan_env/lib/python3.7/site-packages/pandas/io/parsers/readers.py\u001b[0m in \u001b[0;36mread_csv\u001b[0;34m(filepath_or_buffer, sep, delimiter, header, names, index_col, usecols, squeeze, prefix, mangle_dupe_cols, dtype, engine, converters, true_values, false_values, skipinitialspace, skiprows, skipfooter, nrows, na_values, keep_default_na, na_filter, verbose, skip_blank_lines, parse_dates, infer_datetime_format, keep_date_col, date_parser, dayfirst, cache_dates, iterator, chunksize, compression, thousands, decimal, lineterminator, quotechar, quoting, doublequote, escapechar, comment, encoding, encoding_errors, dialect, error_bad_lines, warn_bad_lines, on_bad_lines, delim_whitespace, low_memory, memory_map, float_precision, storage_options)\u001b[0m\n\u001b[1;32m    584\u001b[0m     \u001b[0mkwds\u001b[0m\u001b[0;34m.\u001b[0m\u001b[0mupdate\u001b[0m\u001b[0;34m(\u001b[0m\u001b[0mkwds_defaults\u001b[0m\u001b[0;34m)\u001b[0m\u001b[0;34m\u001b[0m\u001b[0;34m\u001b[0m\u001b[0m\n\u001b[1;32m    585\u001b[0m \u001b[0;34m\u001b[0m\u001b[0m\n\u001b[0;32m--> 586\u001b[0;31m     \u001b[0;32mreturn\u001b[0m \u001b[0m_read\u001b[0m\u001b[0;34m(\u001b[0m\u001b[0mfilepath_or_buffer\u001b[0m\u001b[0;34m,\u001b[0m \u001b[0mkwds\u001b[0m\u001b[0;34m)\u001b[0m\u001b[0;34m\u001b[0m\u001b[0;34m\u001b[0m\u001b[0m\n\u001b[0m\u001b[1;32m    587\u001b[0m \u001b[0;34m\u001b[0m\u001b[0m\n\u001b[1;32m    588\u001b[0m \u001b[0;34m\u001b[0m\u001b[0m\n",
      "\u001b[0;32m~/.pyenv/versions/3.7.8/envs/plan_env/lib/python3.7/site-packages/pandas/io/parsers/readers.py\u001b[0m in \u001b[0;36m_read\u001b[0;34m(filepath_or_buffer, kwds)\u001b[0m\n\u001b[1;32m    480\u001b[0m \u001b[0;34m\u001b[0m\u001b[0m\n\u001b[1;32m    481\u001b[0m     \u001b[0;31m# Create the parser.\u001b[0m\u001b[0;34m\u001b[0m\u001b[0;34m\u001b[0m\u001b[0;34m\u001b[0m\u001b[0m\n\u001b[0;32m--> 482\u001b[0;31m     \u001b[0mparser\u001b[0m \u001b[0;34m=\u001b[0m \u001b[0mTextFileReader\u001b[0m\u001b[0;34m(\u001b[0m\u001b[0mfilepath_or_buffer\u001b[0m\u001b[0;34m,\u001b[0m \u001b[0;34m**\u001b[0m\u001b[0mkwds\u001b[0m\u001b[0;34m)\u001b[0m\u001b[0;34m\u001b[0m\u001b[0;34m\u001b[0m\u001b[0m\n\u001b[0m\u001b[1;32m    483\u001b[0m \u001b[0;34m\u001b[0m\u001b[0m\n\u001b[1;32m    484\u001b[0m     \u001b[0;32mif\u001b[0m \u001b[0mchunksize\u001b[0m \u001b[0;32mor\u001b[0m \u001b[0miterator\u001b[0m\u001b[0;34m:\u001b[0m\u001b[0;34m\u001b[0m\u001b[0;34m\u001b[0m\u001b[0m\n",
      "\u001b[0;32m~/.pyenv/versions/3.7.8/envs/plan_env/lib/python3.7/site-packages/pandas/io/parsers/readers.py\u001b[0m in \u001b[0;36m__init__\u001b[0;34m(self, f, engine, **kwds)\u001b[0m\n\u001b[1;32m    809\u001b[0m             \u001b[0mself\u001b[0m\u001b[0;34m.\u001b[0m\u001b[0moptions\u001b[0m\u001b[0;34m[\u001b[0m\u001b[0;34m\"has_index_names\"\u001b[0m\u001b[0;34m]\u001b[0m \u001b[0;34m=\u001b[0m \u001b[0mkwds\u001b[0m\u001b[0;34m[\u001b[0m\u001b[0;34m\"has_index_names\"\u001b[0m\u001b[0;34m]\u001b[0m\u001b[0;34m\u001b[0m\u001b[0;34m\u001b[0m\u001b[0m\n\u001b[1;32m    810\u001b[0m \u001b[0;34m\u001b[0m\u001b[0m\n\u001b[0;32m--> 811\u001b[0;31m         \u001b[0mself\u001b[0m\u001b[0;34m.\u001b[0m\u001b[0m_engine\u001b[0m \u001b[0;34m=\u001b[0m \u001b[0mself\u001b[0m\u001b[0;34m.\u001b[0m\u001b[0m_make_engine\u001b[0m\u001b[0;34m(\u001b[0m\u001b[0mself\u001b[0m\u001b[0;34m.\u001b[0m\u001b[0mengine\u001b[0m\u001b[0;34m)\u001b[0m\u001b[0;34m\u001b[0m\u001b[0;34m\u001b[0m\u001b[0m\n\u001b[0m\u001b[1;32m    812\u001b[0m \u001b[0;34m\u001b[0m\u001b[0m\n\u001b[1;32m    813\u001b[0m     \u001b[0;32mdef\u001b[0m \u001b[0mclose\u001b[0m\u001b[0;34m(\u001b[0m\u001b[0mself\u001b[0m\u001b[0;34m)\u001b[0m\u001b[0;34m:\u001b[0m\u001b[0;34m\u001b[0m\u001b[0;34m\u001b[0m\u001b[0m\n",
      "\u001b[0;32m~/.pyenv/versions/3.7.8/envs/plan_env/lib/python3.7/site-packages/pandas/io/parsers/readers.py\u001b[0m in \u001b[0;36m_make_engine\u001b[0;34m(self, engine)\u001b[0m\n\u001b[1;32m   1038\u001b[0m             )\n\u001b[1;32m   1039\u001b[0m         \u001b[0;31m# error: Too many arguments for \"ParserBase\"\u001b[0m\u001b[0;34m\u001b[0m\u001b[0;34m\u001b[0m\u001b[0;34m\u001b[0m\u001b[0m\n\u001b[0;32m-> 1040\u001b[0;31m         \u001b[0;32mreturn\u001b[0m \u001b[0mmapping\u001b[0m\u001b[0;34m[\u001b[0m\u001b[0mengine\u001b[0m\u001b[0;34m]\u001b[0m\u001b[0;34m(\u001b[0m\u001b[0mself\u001b[0m\u001b[0;34m.\u001b[0m\u001b[0mf\u001b[0m\u001b[0;34m,\u001b[0m \u001b[0;34m**\u001b[0m\u001b[0mself\u001b[0m\u001b[0;34m.\u001b[0m\u001b[0moptions\u001b[0m\u001b[0;34m)\u001b[0m  \u001b[0;31m# type: ignore[call-arg]\u001b[0m\u001b[0;34m\u001b[0m\u001b[0;34m\u001b[0m\u001b[0m\n\u001b[0m\u001b[1;32m   1041\u001b[0m \u001b[0;34m\u001b[0m\u001b[0m\n\u001b[1;32m   1042\u001b[0m     \u001b[0;32mdef\u001b[0m \u001b[0m_failover_to_python\u001b[0m\u001b[0;34m(\u001b[0m\u001b[0mself\u001b[0m\u001b[0;34m)\u001b[0m\u001b[0;34m:\u001b[0m\u001b[0;34m\u001b[0m\u001b[0;34m\u001b[0m\u001b[0m\n",
      "\u001b[0;32m~/.pyenv/versions/3.7.8/envs/plan_env/lib/python3.7/site-packages/pandas/io/parsers/c_parser_wrapper.py\u001b[0m in \u001b[0;36m__init__\u001b[0;34m(self, src, **kwds)\u001b[0m\n\u001b[1;32m     49\u001b[0m \u001b[0;34m\u001b[0m\u001b[0m\n\u001b[1;32m     50\u001b[0m         \u001b[0;31m# open handles\u001b[0m\u001b[0;34m\u001b[0m\u001b[0;34m\u001b[0m\u001b[0;34m\u001b[0m\u001b[0m\n\u001b[0;32m---> 51\u001b[0;31m         \u001b[0mself\u001b[0m\u001b[0;34m.\u001b[0m\u001b[0m_open_handles\u001b[0m\u001b[0;34m(\u001b[0m\u001b[0msrc\u001b[0m\u001b[0;34m,\u001b[0m \u001b[0mkwds\u001b[0m\u001b[0;34m)\u001b[0m\u001b[0;34m\u001b[0m\u001b[0;34m\u001b[0m\u001b[0m\n\u001b[0m\u001b[1;32m     52\u001b[0m         \u001b[0;32massert\u001b[0m \u001b[0mself\u001b[0m\u001b[0;34m.\u001b[0m\u001b[0mhandles\u001b[0m \u001b[0;32mis\u001b[0m \u001b[0;32mnot\u001b[0m \u001b[0;32mNone\u001b[0m\u001b[0;34m\u001b[0m\u001b[0;34m\u001b[0m\u001b[0m\n\u001b[1;32m     53\u001b[0m \u001b[0;34m\u001b[0m\u001b[0m\n",
      "\u001b[0;32m~/.pyenv/versions/3.7.8/envs/plan_env/lib/python3.7/site-packages/pandas/io/parsers/base_parser.py\u001b[0m in \u001b[0;36m_open_handles\u001b[0;34m(self, src, kwds)\u001b[0m\n\u001b[1;32m    227\u001b[0m             \u001b[0mmemory_map\u001b[0m\u001b[0;34m=\u001b[0m\u001b[0mkwds\u001b[0m\u001b[0;34m.\u001b[0m\u001b[0mget\u001b[0m\u001b[0;34m(\u001b[0m\u001b[0;34m\"memory_map\"\u001b[0m\u001b[0;34m,\u001b[0m \u001b[0;32mFalse\u001b[0m\u001b[0;34m)\u001b[0m\u001b[0;34m,\u001b[0m\u001b[0;34m\u001b[0m\u001b[0;34m\u001b[0m\u001b[0m\n\u001b[1;32m    228\u001b[0m             \u001b[0mstorage_options\u001b[0m\u001b[0;34m=\u001b[0m\u001b[0mkwds\u001b[0m\u001b[0;34m.\u001b[0m\u001b[0mget\u001b[0m\u001b[0;34m(\u001b[0m\u001b[0;34m\"storage_options\"\u001b[0m\u001b[0;34m,\u001b[0m \u001b[0;32mNone\u001b[0m\u001b[0;34m)\u001b[0m\u001b[0;34m,\u001b[0m\u001b[0;34m\u001b[0m\u001b[0;34m\u001b[0m\u001b[0m\n\u001b[0;32m--> 229\u001b[0;31m             \u001b[0merrors\u001b[0m\u001b[0;34m=\u001b[0m\u001b[0mkwds\u001b[0m\u001b[0;34m.\u001b[0m\u001b[0mget\u001b[0m\u001b[0;34m(\u001b[0m\u001b[0;34m\"encoding_errors\"\u001b[0m\u001b[0;34m,\u001b[0m \u001b[0;34m\"strict\"\u001b[0m\u001b[0;34m)\u001b[0m\u001b[0;34m,\u001b[0m\u001b[0;34m\u001b[0m\u001b[0;34m\u001b[0m\u001b[0m\n\u001b[0m\u001b[1;32m    230\u001b[0m         )\n\u001b[1;32m    231\u001b[0m \u001b[0;34m\u001b[0m\u001b[0m\n",
      "\u001b[0;32m~/.pyenv/versions/3.7.8/envs/plan_env/lib/python3.7/site-packages/pandas/io/common.py\u001b[0m in \u001b[0;36mget_handle\u001b[0;34m(path_or_buf, mode, encoding, compression, memory_map, is_text, errors, storage_options)\u001b[0m\n\u001b[1;32m    705\u001b[0m                 \u001b[0mencoding\u001b[0m\u001b[0;34m=\u001b[0m\u001b[0mioargs\u001b[0m\u001b[0;34m.\u001b[0m\u001b[0mencoding\u001b[0m\u001b[0;34m,\u001b[0m\u001b[0;34m\u001b[0m\u001b[0;34m\u001b[0m\u001b[0m\n\u001b[1;32m    706\u001b[0m                 \u001b[0merrors\u001b[0m\u001b[0;34m=\u001b[0m\u001b[0merrors\u001b[0m\u001b[0;34m,\u001b[0m\u001b[0;34m\u001b[0m\u001b[0;34m\u001b[0m\u001b[0m\n\u001b[0;32m--> 707\u001b[0;31m                 \u001b[0mnewline\u001b[0m\u001b[0;34m=\u001b[0m\u001b[0;34m\"\"\u001b[0m\u001b[0;34m,\u001b[0m\u001b[0;34m\u001b[0m\u001b[0;34m\u001b[0m\u001b[0m\n\u001b[0m\u001b[1;32m    708\u001b[0m             )\n\u001b[1;32m    709\u001b[0m         \u001b[0;32melse\u001b[0m\u001b[0;34m:\u001b[0m\u001b[0;34m\u001b[0m\u001b[0;34m\u001b[0m\u001b[0m\n",
      "\u001b[0;31mFileNotFoundError\u001b[0m: [Errno 2] No such file or directory: '../runs/blocksworld-multiple-instances.csv'"
     ]
    }
   ],
   "source": [
    "df = pd.read_csv('../runs/blocksworld-multiple-instances.csv')\n",
    "df[\"complexity\"] = 0\n",
    "df = df[df.method == 'L0']\n",
    "df[\"complexity\"] = 0\n",
    "for i, row in enumerate(df.iterrows()):\n",
    "    ls = eval(f'{row[1].feature_complexities}')\n",
    "    df.iloc[i, -1] = sum(ls)\n",
    "features = 108\n",
    "df_short = df[df.total_features==features].sort_values([\"parameter\", \"score\", \"complexity\"], ascending=(True, False, True))\n",
    "fig, ax = plt.subplots(1,1, figsize=(9, 6))\n",
    "ax.set_title(f'# feat. = {features}')\n",
    "ax.plot(df_short.parameter.to_numpy(), df_short.score.to_numpy())\n",
    "ax.set_ylim((-0.2, 1.1))\n",
    "ax.set_ylabel('score - $R^2$')\n",
    "ax.set_xlabel('$\\lambda$')\n",
    "plt.xticks(rotation=90);\n",
    "plt.xticks(df_short.parameter.to_numpy())\n",
    "plt.xscale(\"log\")\n",
    "plt.show()\n",
    "df_short.iloc[df_short.score.argmax(), :].features_names, df_short.iloc[df_short.score.argmax(), :].feature_weights, df_short.score.max()"
   ]
  },
  {
   "cell_type": "markdown",
   "id": "fad841c4",
   "metadata": {},
   "source": [
    "### on(x,y) block - instance of 2 blocks"
   ]
  },
  {
   "cell_type": "code",
   "execution_count": 49,
   "id": "638db71a",
   "metadata": {},
   "outputs": [
    {
     "name": "stdout",
     "output_type": "stream",
     "text": [
      "[   7 1007 1750]\n"
     ]
    },
    {
     "data": {
      "image/png": "[encoded data removed]",
      "text/plain": [
       "<Figure size 648x432 with 1 Axes>"
      ]
     },
     "metadata": {
      "needs_background": "light"
     },
     "output_type": "display_data"
    },
    {
     "data": {
      "text/plain": [
       "([\"['n_count(r_compose(r_not(r_restrict(r_primitive(on_g,0,1),c_primitive(clear,0))),r_identity(c_all(r_primitive(on_g,0,1),c_primitive(on-table,0)))))'\",\n",
       "  \"'n_count(r_or(r_compose(r_identity(c_primitive(clear,0)),r_primitive(on_g,0,1)),r_identity(c_all(r_not(r_primitive(on_g,0,1)),c_primitive(on-table,0)))))']\"],\n",
       " 1.0,\n",
       " '[5.0, -1.3333, 0.3333]')"
      ]
     },
     "execution_count": 49,
     "metadata": {},
     "output_type": "execute_result"
    }
   ],
   "source": [
    "df = pd.read_csv('../runs/blocksworld_4-p-2-0-on-linear-simple-flag.csv')\n",
    "print(df.total_features.unique())\n",
    "df[\"complexity\"] = 0\n",
    "for i, row in enumerate(df.iterrows()):\n",
    "    ls = eval(f'{row[1].feature_complexities}')\n",
    "    df.iloc[i, -1] = sum(ls)\n",
    "features = 1007\n",
    "df_short = df[df.total_features==features].sort_values([\"parameter\", \"score\", \"complexity\"], ascending=(True, False, True))\n",
    "fig, ax = plt.subplots(1,1, figsize=(9, 6))\n",
    "ax.set_title(f'# feat. = {features}')\n",
    "ax.plot(df_short.parameter.to_numpy(), df_short.score.to_numpy())\n",
    "ax.set_ylim((-0.2, 1.1))\n",
    "ax.set_ylabel('score - $R^2$')\n",
    "ax.set_xlabel('$\\lambda$')\n",
    "plt.xticks(rotation=90);\n",
    "plt.xticks(df_short.parameter.to_numpy())\n",
    "plt.xscale(\"log\")\n",
    "plt.show()\n",
    "col = df_short.iloc[df_short.score.argmax(), :]\n",
    "col.features_names.split(', '), col.score, col.feature_weights"
   ]
  },
  {
   "cell_type": "markdown",
   "id": "f31f6322",
   "metadata": {},
   "source": [
    "### on(x,y) block - instance of 3 blocks"
   ]
  },
  {
   "cell_type": "code",
   "execution_count": 15,
   "id": "8e526d39",
   "metadata": {},
   "outputs": [
    {
     "name": "stdout",
     "output_type": "stream",
     "text": [
      "[    6  1006  2006  3006  4006  5006  6006  7006  8006  9006 10006 11006\n",
      " 12006 13006 14006 15006 16006 17006 18006 19006 20006 21006 22006 23006\n",
      " 24006 25006 26006 27006 28006 29006 30006 31006 32006 33006 34006 35006\n",
      " 36006 37006 38006 39006 39146]\n"
     ]
    },
    {
     "data": {
      "image/png": "[encoded data removed]",
      "text/plain": [
       "<Figure size 648x432 with 1 Axes>"
      ]
     },
     "metadata": {
      "needs_background": "light"
     },
     "output_type": "display_data"
    },
    {
     "data": {
      "text/plain": [
       "([\"['n_sum_role_distance(r_top,r_compose(r_transitive_reflexive_closure(r_primitive(on_g,0,1)),r_primitive(on,0,1)),r_not(r_primitive(on,0,1)))'\",\n",
       "  \"'n_concept_distance(c_primitive(holding,0),r_primitive(on_g,0,1),c_primitive(clear,0))'\",\n",
       "  \"'n_count(c_or(c_primitive(on,0),c_some(r_not(r_primitive(on_g,0,1)),c_primitive(on-table,0))))'\",\n",
       "  \"'n_count(c_some(r_transitive_reflexive_closure(r_primitive(on,0,1)),c_projection(r_diff(r_primitive(on_g,0,1),r_primitive(on,0,1)),1)))'\",\n",
       "  \"'n_sum_concept_distance(c_primitive(on,1),r_top,c_subset(r_primitive(on_g,0,1),r_primitive(on,0,1)))'\",\n",
       "  \"'n_concept_distance(c_primitive(clear,0),r_top,c_diff(c_primitive(holding,0),c_primitive(on_g,0)))']\"],\n",
       " 1.0,\n",
       " '[3.0, 1.0, -1.0, -1.0, 2.0, 2.0, 1.0]')"
      ]
     },
     "execution_count": 15,
     "metadata": {},
     "output_type": "execute_result"
    }
   ],
   "source": [
    "df = pd.read_csv('../runs/blocksworld_4-p-3-0-on-linear-simple-flag.csv')\n",
    "print(df.total_features.unique())\n",
    "df[\"complexity\"] = 0\n",
    "for i, row in enumerate(df.iterrows()):\n",
    "    ls = eval(f'{row[1].feature_complexities}')\n",
    "    df.iloc[i, -1] = sum(ls)\n",
    "features = 6 \n",
    "df_short = df[df.total_features==features].sort_values([\"parameter\", \"score\", \"complexity\"], ascending=(True, False, True))\n",
    "fig, ax = plt.subplots(1,1, figsize=(9, 6))\n",
    "ax.set_title(f'# feat. = {features}')\n",
    "ax.plot(df_short.parameter.to_numpy(), df_short.score.to_numpy())\n",
    "ax.set_ylim((-0.2, 1.1))\n",
    "ax.set_ylabel('score - $R^2$')\n",
    "ax.set_xlabel('$\\lambda$')\n",
    "plt.xticks(rotation=90);\n",
    "plt.xticks(df_short.parameter.to_numpy())\n",
    "plt.xscale(\"log\")\n",
    "plt.show()\n",
    "col = df_short.iloc[df_short.score.argmax(), :]\n",
    "col.features_names.split(', '), col.score, col.feature_weights\n"
   ]
  },
  {
   "cell_type": "code",
   "execution_count": 20,
   "id": "28d31c5e",
   "metadata": {},
   "outputs": [
    {
     "name": "stdout",
     "output_type": "stream",
     "text": [
      "[    6  1006  2006  3006  4006  5006  6006  7006  8006  9006 10006 11006\n",
      " 12006 13006 14006 15006 16006 17006 18006 19006 20006 21006 22006 23006\n",
      " 24006 25006 26006 27006 28006 29006 30006 31006 32006 33006 34006 35006\n",
      " 36006 37006 38006 39006 40006 41006 42006 43006 44006 45006 46006 47006\n",
      " 48006 49006 50006 51006 52006 53006 54006 55006 56006 57006 58006 59006\n",
      " 60006 61006 61441]\n"
     ]
    },
    {
     "data": {
      "image/png": "[encoded data removed]",
      "text/plain": [
       "<Figure size 648x432 with 1 Axes>"
      ]
     },
     "metadata": {
      "needs_background": "light"
     },
     "output_type": "display_data"
    },
    {
     "data": {
      "text/plain": [
       "([\"['n_sum_concept_distance(c_primitive(on,1),r_top,c_subset(r_primitive(on_g,0,1),r_primitive(on,0,1)))'\",\n",
       "  \"'n_concept_distance(c_primitive(holding,0),r_primitive(on_g,0,1),c_primitive(clear,0))'\",\n",
       "  \"'n_sum_role_distance(r_top,r_compose(r_transitive_reflexive_closure(r_primitive(on_g,0,1)),r_primitive(on,0,1)),r_not(r_primitive(on,0,1)))'\",\n",
       "  \"'n_count(c_some(r_transitive_reflexive_closure(r_primitive(on,0,1)),c_projection(r_diff(r_primitive(on_g,0,1),r_primitive(on,0,1)),1)))'\",\n",
       "  \"'n_count(c_or(c_primitive(on,0),c_some(r_not(r_primitive(on_g,0,1)),c_primitive(on-table,0))))'\",\n",
       "  \"'n_concept_distance(c_primitive(clear,0),r_top,c_diff(c_primitive(holding,0),c_primitive(on_g,0)))']\"],\n",
       " 0.9476743517817566,\n",
       " '[4.93718849235599, 2.1633, -1.1122, 0.9151, 1.8584, -1.1709, 0.9393]')"
      ]
     },
     "execution_count": 20,
     "metadata": {},
     "output_type": "execute_result"
    }
   ],
   "source": [
    "df = pd.read_csv('../runs/blocksworld_4-p-4-0-on-linear-simple-flag.csv')\n",
    "print(df.total_features.unique())\n",
    "df[\"complexity\"] = 0\n",
    "for i, row in enumerate(df.iterrows()):\n",
    "    ls = eval(f'{row[1].feature_complexities}')\n",
    "    df.iloc[i, -1] = sum(ls)\n",
    "features = 6 \n",
    "df_short = df[df.total_features==features].sort_values([\"parameter\", \"score\", \"complexity\"], ascending=(True, False, True))\n",
    "fig, ax = plt.subplots(1,1, figsize=(9, 6))\n",
    "ax.set_title(f'# feat. = {features}')\n",
    "ax.plot(df_short.parameter.to_numpy(), df_short.score.to_numpy())\n",
    "ax.set_ylim((-0.2, 1.1))\n",
    "ax.set_ylabel('score - $R^2$')\n",
    "ax.set_xlabel('$\\lambda$')\n",
    "plt.xticks(rotation=90);\n",
    "plt.xticks(df_short.parameter.to_numpy())\n",
    "plt.xscale(\"log\")\n",
    "plt.show()\n",
    "col = df_short.iloc[df_short.score.argmax(), :]\n",
    "col.features_names.split(', '), col.score, col.feature_weights"
   ]
  },
  {
   "cell_type": "markdown",
   "id": "be7f9a2c",
   "metadata": {},
   "source": [
    "### on(x y) - 5 blocks instance"
   ]
  },
  {
   "cell_type": "code",
   "execution_count": 47,
   "id": "a0719c76",
   "metadata": {},
   "outputs": [
    {
     "name": "stdout",
     "output_type": "stream",
     "text": [
      "[    7  1007  2007  3007  4007  5007  6007  7007  8007  9007 10007 11007\n",
      " 12007 13007 13278]\n"
     ]
    },
    {
     "data": {
      "image/png": "[encoded data removed]",
      "text/plain": [
       "<Figure size 648x432 with 1 Axes>"
      ]
     },
     "metadata": {
      "needs_background": "light"
     },
     "output_type": "display_data"
    },
    {
     "data": {
      "text/plain": [
       "([\"['n_role_distance(r_primitive(on,0,1),r_primitive(on_g,0,1),r_or(r_identity(c_primitive(clear,0)),r_primitive(on_g,0,1)))'\",\n",
       "  \"'b_inclusion(c_primitive(on_g,0),c_some(r_not(r_transitive_reflexive_closure(r_primitive(on_g,0,1))),c_primitive(on,1)))'\",\n",
       "  \"'b_inclusion(c_or(c_primitive(on_g,0),c_primitive(on_g,1)),c_all(r_primitive(on,0,1),c_primitive(on,0)))'\",\n",
       "  \"'b_inclusion(c_primitive(on-table,0),c_or(c_or(c_primitive(on_g,0),c_primitive(on_g,1)),c_primitive(clear,0)))'\",\n",
       "  \"'n_sum_concept_distance(c_primitive(on-table,0),r_inverse(r_primitive(on,0,1)),c_or(c_primitive(on_g,0),c_primitive(on_g,1)))'\",\n",
       "  \"'n_role_distance(r_not(r_primitive(on_g,0,1)),r_top,r_restrict(r_primitive(on,0,1),c_primitive(on-table,0)))'\",\n",
       "  \"'n_sum_concept_distance(c_primitive(clear,0),r_diff(r_primitive(on,0,1),r_primitive(on_g,0,1)),c_primitive(on-table,0))'\",\n",
       "  \"'n_count(c_or(c_primitive(on,1),c_some(r_transitive_reflexive_closure(r_primitive(on_g,0,1)),c_primitive(clear,0))))'\",\n",
       "  \"'n_sum_concept_distance(c_all(r_primitive(on_g,0,1),c_primitive(on,1)),r_primitive(on_g,0,1),c_not(c_primitive(on,1)))']\"],\n",
       " 0.967337850875354)"
      ]
     },
     "execution_count": 47,
     "metadata": {},
     "output_type": "execute_result"
    }
   ],
   "source": [
    "df = pd.read_csv('../runs/blocksworld_4-p-5-0-on-linear-simple-flag.csv')\n",
    "print(df.total_features.unique())\n",
    "df = df[df.method == 'L0']\n",
    "df[\"complexity\"] = 0\n",
    "for i, row in enumerate(df.iterrows()):\n",
    "    ls = eval(f'{row[1].feature_complexities}')\n",
    "    df.iloc[i, -1] = sum(ls)\n",
    "features = 13278\n",
    "df_short = df[df.total_features==features].sort_values([\"parameter\", \"score\", \"complexity\"], ascending=(True, False, True))\n",
    "fig, ax = plt.subplots(1,1, figsize=(9, 6))\n",
    "ax.set_title(f'# feat. = {features}')\n",
    "ax.plot(df_short.parameter.to_numpy(), df_short.score.to_numpy())\n",
    "ax.set_ylim((-0.2, 1.1))\n",
    "ax.set_ylabel('score - $R^2$')\n",
    "ax.set_xlabel('$\\lambda$')\n",
    "plt.xticks(rotation=90);\n",
    "plt.xticks(df_short.parameter.to_numpy())\n",
    "plt.xscale(\"log\")\n",
    "plt.show()\n",
    "df_short.iloc[df_short.score.argmax(), :].features_names.split(', '), df_short.score.max()"
   ]
  },
  {
   "cell_type": "markdown",
   "id": "6941ec99",
   "metadata": {},
   "source": [
    "### On block - multiple instances"
   ]
  },
  {
   "cell_type": "code",
   "execution_count": 359,
   "id": "be1fe536",
   "metadata": {},
   "outputs": [
    {
     "data": {
      "image/png": "[encoded data removed]",
      "text/plain": [
       "<Figure size 648x432 with 1 Axes>"
      ]
     },
     "metadata": {
      "needs_background": "light"
     },
     "output_type": "display_data"
    },
    {
     "data": {
      "text/plain": [
       "(\"['n_count(c_all(r_primitive(on_g,0,1),c_primitive(on,1)))', 'n_concept_distance(c_primitive(on,1),r_primitive(on_g,0,1),c_primitive(on_g,1))', 'n_sum_concept_distance(c_primitive(on,1),r_primitive(on_g,0,1),c_primitive(on_g,0))', 'b_empty(r_and(r_primitive(on,0,1),r_primitive(on_g,0,1)))', 'n_concept_distance(c_primitive(clear,0),r_primitive(on,0,1),c_primitive(on_g,0))', 'n_concept_distance(c_primitive(holding,0),r_top,c_primitive(on_g,1))', 'n_count(c_all(r_primitive(on_g,0,1),c_primitive(clear,0)))', 'b_inclusion(r_primitive(on_g,0,1),r_inverse(r_primitive(on,0,1)))', 'n_concept_distance(c_primitive(holding,0),r_primitive(on_g,0,1),c_primitive(clear,0))', 'n_role_distance(r_primitive(on,0,1),r_primitive(on,0,1),r_primitive(on_g,0,1))']\",\n",
       " '[2.717575742654268, -1.0921, -1.0059, -0.8789, -5.5923, -1.4378, -0.9945, 1.0413, 0.6113, 2.018, -1.6267]',\n",
       " 0.931196631083296)"
      ]
     },
     "execution_count": 359,
     "metadata": {},
     "output_type": "execute_result"
    }
   ],
   "source": [
    "df = pd.read_csv('../runs/blocksworld_4-on-multiple-instances.csv')\n",
    "df[\"complexity\"] = 0\n",
    "df = df[df.method == 'L0']\n",
    "df[\"complexity\"] = 0\n",
    "for i, row in enumerate(df.iterrows()):\n",
    "    ls = eval(f'{row[1].feature_complexities}')\n",
    "    df.iloc[i, -1] = sum(ls)\n",
    "features = 214\n",
    "df_short = df[df.total_features==features].sort_values([\"parameter\", \"score\", \"complexity\"], ascending=(True, False, True))\n",
    "fig, ax = plt.subplots(1,1, figsize=(9, 6))\n",
    "ax.set_title(f'# feat. = {features}')\n",
    "ax.plot(df_short.parameter.to_numpy(), df_short.score.to_numpy())\n",
    "ax.set_ylim((-0.2, 1.1))\n",
    "ax.set_ylabel('score - $R^2$')\n",
    "ax.set_xlabel('$\\lambda$')\n",
    "plt.xticks(rotation=90);\n",
    "plt.xticks(df_short.parameter.to_numpy())\n",
    "plt.show()\n",
    "df_short.iloc[df_short.score.argmax(), :].features_names, df_short.iloc[df_short.score.argmax(), :].feature_weights, df_short.score.max()"
   ]
  },
  {
   "cell_type": "markdown",
   "id": "6caee85f",
   "metadata": {},
   "source": [
    "### Delivery - 1 package"
   ]
  },
  {
   "cell_type": "code",
   "execution_count": 368,
   "id": "d52a8d52",
   "metadata": {},
   "outputs": [
    {
     "data": {
      "image/png": "[encoded data removed]",
      "text/plain": [
       "<Figure size 648x432 with 1 Axes>"
      ]
     },
     "metadata": {
      "needs_background": "light"
     },
     "output_type": "display_data"
    },
    {
     "data": {
      "text/plain": [
       "([\"['n_concept_distance(c_primitive(carrying,0),r_primitive(at,0,1),c_primitive(at_g,1))'\",\n",
       "  \"'b_inclusion(c_primitive(at_g,1),c_all(r_primitive(adjacent,0,1),c_primitive(at,1)))'\",\n",
       "  \"'n_count(r_or(r_not(r_primitive(at,0,1)),r_primitive(at_g,0,1)))'\",\n",
       "  \"'n_sum_concept_distance(c_primitive(at,0),r_inverse(r_primitive(at_g,0,1)),c_primitive(at,1))'\",\n",
       "  \"'n_count(c_not(c_all(r_primitive(adjacent,0,1),c_primitive(at,1))))'\",\n",
       "  \"'b_inclusion(r_restrict(r_primitive(at_g,0,1),c_primitive(at,1)),r_primitive(at,0,1))'\",\n",
       "  \"'n_concept_distance(c_primitive(empty,0),r_not(r_primitive(at,0,1)),c_primitive(at,1))'\",\n",
       "  \"'b_inclusion(c_primitive(at,1),c_some(r_primitive(adjacent,0,1),c_primitive(at,1)))'\",\n",
       "  \"'n_role_distance(r_inverse(r_primitive(at,0,1)),r_primitive(at_g,0,1),r_primitive(adjacent,0,1))'\",\n",
       "  \"'b_inclusion(c_primitive(at,1),c_some(r_primitive(adjacent,0,1),c_primitive(at_g,1)))']\"],\n",
       " '[-182.51128719756514, 1.8324, -0.9987, 5.167, -0.8342, -0.2912, 0.1665, 1.75, 1.0825, 1.0003, 0.4989]',\n",
       " 0.9906540609525342)"
      ]
     },
     "execution_count": 368,
     "metadata": {},
     "output_type": "execute_result"
    }
   ],
   "source": [
    "df = pd.read_csv('../runs/delivery_2_1_0.csv')\n",
    "df[\"complexity\"] = 0\n",
    "df = df[df.method == 'L0']\n",
    "df[\"complexity\"] = 0\n",
    "for i, row in enumerate(df.iterrows()):\n",
    "    ls = eval(f'{row[1].feature_complexities}')\n",
    "    df.iloc[i, -1] = sum(ls)\n",
    "features = 206\n",
    "df_short = df[df.total_features==features].sort_values([\"parameter\", \"score\", \"complexity\"], ascending=(True, False, True))\n",
    "fig, ax = plt.subplots(1,1, figsize=(9, 6))\n",
    "ax.set_title(f'# feat. = {features}')\n",
    "ax.plot(df_short.parameter.to_numpy(), df_short.score.to_numpy())\n",
    "ax.set_ylim((-0.2, 1.1))\n",
    "ax.set_ylabel('score - $R^2$')\n",
    "ax.set_xlabel('$\\lambda$')\n",
    "plt.xticks(rotation=90);\n",
    "plt.xticks(df_short.parameter.to_numpy())\n",
    "plt.show()\n",
    "df_short.iloc[df_short.score.argmax(), :].features_names.split(', '), df_short.iloc[df_short.score.argmax(), :].feature_weights, df_short.score.max()"
   ]
  },
  {
   "cell_type": "markdown",
   "id": "e1d14040",
   "metadata": {},
   "source": [
    "## Delivery 1 package"
   ]
  },
  {
   "cell_type": "code",
   "execution_count": 6,
   "id": "8672020d",
   "metadata": {},
   "outputs": [
    {
     "name": "stdout",
     "output_type": "stream",
     "text": [
      "[    1  1001  2001  3001  4001  5001  6001  7001  8001  9001 10001 11001\n",
      " 12001 13001 14001 15001 16001 17001 18001 19001 20001 21001 22001 23001\n",
      " 24001 25001 26001 27001 28001 29001 30001 31001 32001 33001 34001 35001\n",
      " 36001 36999]\n"
     ]
    },
    {
     "data": {
      "image/png": "[encoded data removed]",
      "text/plain": [
       "<Figure size 648x432 with 1 Axes>"
      ]
     },
     "metadata": {
      "needs_background": "light"
     },
     "output_type": "display_data"
    },
    {
     "data": {
      "text/plain": [
       "([\"['n_count(c_and(c_not(c_and(c_all(r_primitive(adjacent,0,1),c_all(r_inverse(r_primitive(at,0,1)),c_primitive(truck,0))),c_not(c_primitive(at_g,1)))),c_not(c_primitive(at,1))))'\",\n",
       "  \"'n_concept_distance(c_primitive(at_g,0),r_not(r_primitive(at,0,1)),c_and(c_not(c_and(c_not(c_some(r_primitive(adjacent,0,1),c_primitive(at,1))),c_primitive(at_g,1))),c_primitive(at,1)))'\",\n",
       "  \"'n_count(c_and(c_and(c_all(r_inverse(r_primitive(at,0,1)),c_primitive(empty,0)),c_not(c_some(r_primitive(adjacent,0,1),c_primitive(at,1)))),c_primitive(at_g,1)))'\",\n",
       "  \"'n_count(c_not(c_and(c_all(r_inverse(r_primitive(at,0,1)),c_some(r_primitive(at_g,0,1),c_primitive(at,1))),c_some(r_not(r_primitive(adjacent,0,1)),c_primitive(at,1)))))'\",\n",
       "  \"'n_concept_distance(c_primitive(at_g,0),r_primitive(at_g,0,1),c_some(r_primitive(adjacent,0,1),c_all(r_primitive(adjacent,0,1),c_all(r_inverse(r_primitive(at,0,1)),c_all(r_primitive(at_g,0,1),c_primitive(at,1))))))'\",\n",
       "  \"'n_concept_distance(c_primitive(locatable,0),r_primitive(at_g,0,1),c_and(c_all(r_inverse(r_primitive(at,0,1)),c_primitive(at_g,0)),c_all(r_primitive(at,0,1),c_some(r_primitive(adjacent,0,1),c_primitive(at_g,1)))))'\",\n",
       "  \"'n_concept_distance(c_primitive(at,1),r_primitive(adjacent,0,1),c_and(c_not(c_primitive(at_g,1)),c_some(r_primitive(adjacent,0,1),c_and(c_all(r_inverse(r_primitive(at,0,1)),c_primitive(at_g,0)),c_primitive(at,1)))))'\",\n",
       "  \"'n_count(c_and(c_equal(r_primitive(at,0,1),r_primitive(at_g,0,1)),c_not(c_projection(r_and(r_not(r_primitive(at_g,0,1)),r_primitive(at,0,1)),1))))'\",\n",
       "  \"'n_concept_distance(c_primitive(empty,0),r_not(r_primitive(at,0,1)),c_and(c_not(c_some(r_primitive(adjacent,0,1),c_primitive(at_g,1))),c_projection(r_and(r_not(r_primitive(at_g,0,1)),r_primitive(at,0,1)),1)))'\",\n",
       "  \"'b_empty(c_and(c_primitive(at_g,1),c_some(r_primitive(adjacent,0,1),c_some(r_primitive(adjacent,0,1),c_and(c_all(r_inverse(r_primitive(at_g,0,1)),c_primitive(at,0)),c_not(c_primitive(at,1)))))))']\"],\n",
       " '[8.225112460715053, 0.8723, 0.105, 0.8302, -0.1202, 0.0711, -0.1692, -0.0601, -2.2979, -0.2341, 0.1298]',\n",
       " 0.9998261691306456)"
      ]
     },
     "execution_count": 6,
     "metadata": {},
     "output_type": "execute_result"
    }
   ],
   "source": [
    "df = pd.read_csv('../runs/delivery-instance_2x2_1p_0.csv')\n",
    "print(df.total_features.unique())\n",
    "df = df[df.method == 'L0']\n",
    "df[\"complexity\"] = 0\n",
    "for i, row in enumerate(df.iterrows()):\n",
    "    ls = eval(f'{row[1].feature_complexities}')\n",
    "    df.iloc[i, -1] = sum(ls)\n",
    "features = 14001\n",
    "df_short = df[df.total_features==features].sort_values([\"parameter\", \"score\", \"complexity\"], ascending=(True, False, True))\n",
    "fig, ax = plt.subplots(1,1, figsize=(9, 6))\n",
    "ax.set_title(f'# feat. = {features}')\n",
    "ax.plot(df_short.parameter.to_numpy(), df_short.score.to_numpy())\n",
    "ax.set_ylim((-0.2, 1.1))\n",
    "ax.set_ylabel('score - $R^2$')\n",
    "ax.set_xlabel('$\\lambda$')\n",
    "plt.xticks(rotation=90);\n",
    "plt.xticks(df_short.parameter.to_numpy())\n",
    "plt.show()\n",
    "df_short.iloc[df_short.score.argmax(), :].features_names.split(', '), df_short.iloc[df_short.score.argmax(), :].feature_weights, df_short.score.max()"
   ]
  },
  {
   "cell_type": "code",
   "execution_count": 8,
   "id": "8e4ee49e",
   "metadata": {},
   "outputs": [
    {
     "data": {
      "text/plain": [
       "([\"['n_count(c_and(c_all(r_primitive(at_g,0,1),c_primitive(at,1)),c_not(c_some(r_not(r_primitive(at,0,1)),c_and(c_all(r_primitive(at,0,1),c_primitive(at_g,1)),c_primitive(at_g,0))))))'\",\n",
       "  \"'n_concept_distance(c_and(c_all(r_primitive(at,0,1),c_some(r_primitive(adjacent,0,1),c_primitive(at_g,1))),c_primitive(at_g,0)),r_primitive(at_g,0,1),c_primitive(at,1))'\",\n",
       "  \"'n_count(c_all(r_primitive(at,0,1),c_all(r_restrict(r_primitive(adjacent,0,1),c_primitive(at_g,1)),c_some(r_primitive(adjacent,0,1),c_some(r_inverse(r_primitive(at,0,1)),c_primitive(empty,0))))))'\",\n",
       "  \"'n_count(c_and(c_all(r_restrict(r_primitive(adjacent,0,1),c_primitive(at_g,1)),c_some(r_inverse(r_primitive(at,0,1)),c_primitive(carrying,0))),c_not(c_and(c_primitive(at,1),c_primitive(at_g,1)))))'\",\n",
       "  \"'n_count(c_all(r_primitive(at,0,1),c_and(c_not(c_primitive(at_g,1)),c_not(c_some(r_inverse(r_primitive(at,0,1)),c_primitive(empty,0))))))'\",\n",
       "  \"'b_empty(c_and(c_and(c_all(r_inverse(r_primitive(at,0,1)),c_all(r_primitive(at_g,0,1),c_primitive(at,1))),c_not(c_some(r_primitive(adjacent,0,1),c_primitive(at_g,1)))),c_primitive(at,1)))'\",\n",
       "  \"'n_count(c_some(r_not(r_primitive(carrying,0,1)),c_and(c_all(r_and(r_not(r_primitive(at_g,0,1)),r_primitive(at,0,1)),c_some(r_primitive(adjacent,0,1),c_primitive(at_g,1))),c_primitive(locatable,0))))'\",\n",
       "  \"'n_concept_distance(c_and(c_not(c_primitive(at_g,1)),c_primitive(at,1)),r_restrict(r_primitive(adjacent,0,1),c_primitive(at_g,1)),c_some(r_not(r_inverse(r_primitive(at,0,1))),c_primitive(locatable,0)))'\",\n",
       "  \"'n_concept_distance(c_primitive(locatable,0),r_not(r_primitive(at,0,1)),c_and(c_all(r_not(r_inverse(r_primitive(at,0,1))),c_all(r_primitive(at,0,1),c_primitive(at_g,1))),c_not(c_primitive(at,0))))'\",\n",
       "  \"'n_concept_distance(c_primitive(at,1),r_primitive(adjacent,0,1),c_not(c_and(c_all(r_inverse(r_primitive(at_g,0,1)),c_primitive(carrying,1)),c_all(r_restrict(r_primitive(adjacent,0,1),c_primitive(at_g,1)),c_primitive(at,1)))))']\"],\n",
       " '[-11.244698001717977, 0.6934, -0.6273, 0.9592, 0.0661, 1.4262, 0.0408, -0.0689, -0.5738, -0.0, 0.0127]',\n",
       " 0.9999999999998178)"
      ]
     },
     "execution_count": 8,
     "metadata": {},
     "output_type": "execute_result"
    }
   ],
   "source": [
    "df.iloc[df.score.argmax(), :].features_names.split(', '), df.iloc[df.score.argmax(), :].feature_weights, df.score.max()"
   ]
  },
  {
   "cell_type": "code",
   "execution_count": null,
   "id": "428fa43a",
   "metadata": {},
   "outputs": [],
   "source": []
  }
 ],
 "metadata": {
  "kernelspec": {
   "display_name": "Python 3 (ipykernel)",
   "language": "python",
   "name": "python3"
  },
  "language_info": {
   "codemirror_mode": {
    "name": "ipython",
    "version": 3
   },
   "file_extension": ".py",
   "mimetype": "text/x-python",
   "name": "python",
   "nbconvert_exporter": "python",
   "pygments_lexer": "ipython3",
   "version": "3.7.8"
  }
 },
 "nbformat": 4,
 "nbformat_minor": 5
}
